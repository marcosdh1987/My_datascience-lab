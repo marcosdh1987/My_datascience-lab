{
 "cells": [
  {
   "cell_type": "code",
   "execution_count": 17,
   "metadata": {},
   "outputs": [
    {
     "data": {
      "image/png": "[encoded data removed]",
      "text/plain": [
       "<Figure size 432x288 with 1 Axes>"
      ]
     },
     "metadata": {},
     "output_type": "display_data"
    }
   ],
   "source": [
    "import pandas as pd\n",
    "import numpy as np\n",
    "import seaborn as sns\n",
    "import matplotlib.pyplot as plt\n",
    "\n",
    "data1 = pd.read_csv('d:/train.csv')  \n",
    "\n",
    "train_features = np.array([data1['ch1'],data1['ch2'],data1['ch3'],data1['ch4'],data1['ch5']])\n",
    "train_targets = np.array(data1['wc'])\n",
    "\n",
    "#boxplot\n",
    "\n",
    "mean_wc = np.mean(data1['wc'])\n",
    "percentiles = np.array([2.5,25,50,75,97.5])\n",
    "ptiles = np.percentile(data['wc'],percentiles)\n",
    "#print(ptiles)\n",
    "\n",
    "\n",
    "\n",
    "_ = sns.boxplot(x='wc',y='ch1', data=data1)\n",
    "_ = plt.xlabel('water cut')\n",
    "_ = plt.ylabel('ch1')\n",
    "plt.show()\n",
    "\n",
    "#histogram\n",
    "plt.hist(data['wc'])\n",
    "plt.xlabel('value')\n",
    "plt.ylabel('water cut %')\n",
    "plt.show()\n",
    "\n",
    "#normal x-y\n",
    "#plt.plot(data['wc'])\n",
    "#plt.show()\n"
   ]
  }
 ],
 "metadata": {
  "kernelspec": {
   "display_name": "Python 3",
   "language": "python",
   "name": "python3"
  },
  "language_info": {
   "codemirror_mode": {
    "name": "ipython",
    "version": 3
   },
   "file_extension": ".py",
   "mimetype": "text/x-python",
   "name": "python",
   "nbconvert_exporter": "python",
   "pygments_lexer": "ipython3",
   "version": "3.7.4"
  }
 },
 "nbformat": 4,
 "nbformat_minor": 4
}
