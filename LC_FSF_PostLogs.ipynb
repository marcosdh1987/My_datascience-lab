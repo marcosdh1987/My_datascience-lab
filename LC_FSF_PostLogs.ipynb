{
 "cells": [
  {
   "cell_type": "markdown",
   "metadata": {},
   "source": [
    "Post Process tool for simulated logs\n"
   ]
  },
  {
   "cell_type": "code",
   "execution_count": 1,
   "metadata": {},
   "outputs": [
    {
     "ename": "FileNotFoundError",
     "evalue": "[Errno 2] File b'D:\\\\OneDrive\\\\OneDrive - WFT\\\\Compartido\\\\Well_Datasets\\\\La_Calera_Pluspetrol\\\\Post_Process\\\\sim_logs\\\\lc-3008\\\\Log20032021.csv' does not exist: b'D:\\\\OneDrive\\\\OneDrive - WFT\\\\Compartido\\\\Well_Datasets\\\\La_Calera_Pluspetrol\\\\Post_Process\\\\sim_logs\\\\lc-3008\\\\Log20032021.csv'",
     "output_type": "error",
     "traceback": [
      "\u001b[1;31m---------------------------------------------------------------------------\u001b[0m",
      "\u001b[1;31mFileNotFoundError\u001b[0m                         Traceback (most recent call last)",
      "\u001b[1;32m<ipython-input-1-e8281ff64c06>\u001b[0m in \u001b[0;36m<module>\u001b[1;34m\u001b[0m\n\u001b[0;32m     16\u001b[0m \u001b[1;33m\u001b[0m\u001b[0m\n\u001b[0;32m     17\u001b[0m \u001b[1;31m#simulated\u001b[0m\u001b[1;33m\u001b[0m\u001b[1;33m\u001b[0m\u001b[1;33m\u001b[0m\u001b[0m\n\u001b[1;32m---> 18\u001b[1;33m \u001b[0mdata1\u001b[0m \u001b[1;33m=\u001b[0m \u001b[0mpd\u001b[0m\u001b[1;33m.\u001b[0m\u001b[0mread_csv\u001b[0m\u001b[1;33m(\u001b[0m\u001b[1;34mr'D:\\OneDrive\\OneDrive - WFT\\Compartido\\Well_Datasets\\La_Calera_Pluspetrol\\Post_Process\\sim_logs\\lc-3008\\Log20032021.csv'\u001b[0m\u001b[1;33m)\u001b[0m\u001b[1;33m\u001b[0m\u001b[1;33m\u001b[0m\u001b[0m\n\u001b[0m\u001b[0;32m     19\u001b[0m \u001b[1;33m\u001b[0m\u001b[0m\n\u001b[0;32m     20\u001b[0m \u001b[1;33m\u001b[0m\u001b[0m\n",
      "\u001b[1;32m~\\AppData\\Local\\Continuum\\anaconda3\\lib\\site-packages\\pandas\\io\\parsers.py\u001b[0m in \u001b[0;36mparser_f\u001b[1;34m(filepath_or_buffer, sep, delimiter, header, names, index_col, usecols, squeeze, prefix, mangle_dupe_cols, dtype, engine, converters, true_values, false_values, skipinitialspace, skiprows, skipfooter, nrows, na_values, keep_default_na, na_filter, verbose, skip_blank_lines, parse_dates, infer_datetime_format, keep_date_col, date_parser, dayfirst, cache_dates, iterator, chunksize, compression, thousands, decimal, lineterminator, quotechar, quoting, doublequote, escapechar, comment, encoding, dialect, error_bad_lines, warn_bad_lines, delim_whitespace, low_memory, memory_map, float_precision)\u001b[0m\n\u001b[0;32m    683\u001b[0m         )\n\u001b[0;32m    684\u001b[0m \u001b[1;33m\u001b[0m\u001b[0m\n\u001b[1;32m--> 685\u001b[1;33m         \u001b[1;32mreturn\u001b[0m \u001b[0m_read\u001b[0m\u001b[1;33m(\u001b[0m\u001b[0mfilepath_or_buffer\u001b[0m\u001b[1;33m,\u001b[0m \u001b[0mkwds\u001b[0m\u001b[1;33m)\u001b[0m\u001b[1;33m\u001b[0m\u001b[1;33m\u001b[0m\u001b[0m\n\u001b[0m\u001b[0;32m    686\u001b[0m \u001b[1;33m\u001b[0m\u001b[0m\n\u001b[0;32m    687\u001b[0m     \u001b[0mparser_f\u001b[0m\u001b[1;33m.\u001b[0m\u001b[0m__name__\u001b[0m \u001b[1;33m=\u001b[0m \u001b[0mname\u001b[0m\u001b[1;33m\u001b[0m\u001b[1;33m\u001b[0m\u001b[0m\n",
      "\u001b[1;32m~\\AppData\\Local\\Continuum\\anaconda3\\lib\\site-packages\\pandas\\io\\parsers.py\u001b[0m in \u001b[0;36m_read\u001b[1;34m(filepath_or_buffer, kwds)\u001b[0m\n\u001b[0;32m    455\u001b[0m \u001b[1;33m\u001b[0m\u001b[0m\n\u001b[0;32m    456\u001b[0m     \u001b[1;31m# Create the parser.\u001b[0m\u001b[1;33m\u001b[0m\u001b[1;33m\u001b[0m\u001b[1;33m\u001b[0m\u001b[0m\n\u001b[1;32m--> 457\u001b[1;33m     \u001b[0mparser\u001b[0m \u001b[1;33m=\u001b[0m \u001b[0mTextFileReader\u001b[0m\u001b[1;33m(\u001b[0m\u001b[0mfp_or_buf\u001b[0m\u001b[1;33m,\u001b[0m \u001b[1;33m**\u001b[0m\u001b[0mkwds\u001b[0m\u001b[1;33m)\u001b[0m\u001b[1;33m\u001b[0m\u001b[1;33m\u001b[0m\u001b[0m\n\u001b[0m\u001b[0;32m    458\u001b[0m \u001b[1;33m\u001b[0m\u001b[0m\n\u001b[0;32m    459\u001b[0m     \u001b[1;32mif\u001b[0m \u001b[0mchunksize\u001b[0m \u001b[1;32mor\u001b[0m \u001b[0miterator\u001b[0m\u001b[1;33m:\u001b[0m\u001b[1;33m\u001b[0m\u001b[1;33m\u001b[0m\u001b[0m\n",
      "\u001b[1;32m~\\AppData\\Local\\Continuum\\anaconda3\\lib\\site-packages\\pandas\\io\\parsers.py\u001b[0m in \u001b[0;36m__init__\u001b[1;34m(self, f, engine, **kwds)\u001b[0m\n\u001b[0;32m    893\u001b[0m             \u001b[0mself\u001b[0m\u001b[1;33m.\u001b[0m\u001b[0moptions\u001b[0m\u001b[1;33m[\u001b[0m\u001b[1;34m\"has_index_names\"\u001b[0m\u001b[1;33m]\u001b[0m \u001b[1;33m=\u001b[0m \u001b[0mkwds\u001b[0m\u001b[1;33m[\u001b[0m\u001b[1;34m\"has_index_names\"\u001b[0m\u001b[1;33m]\u001b[0m\u001b[1;33m\u001b[0m\u001b[1;33m\u001b[0m\u001b[0m\n\u001b[0;32m    894\u001b[0m \u001b[1;33m\u001b[0m\u001b[0m\n\u001b[1;32m--> 895\u001b[1;33m         \u001b[0mself\u001b[0m\u001b[1;33m.\u001b[0m\u001b[0m_make_engine\u001b[0m\u001b[1;33m(\u001b[0m\u001b[0mself\u001b[0m\u001b[1;33m.\u001b[0m\u001b[0mengine\u001b[0m\u001b[1;33m)\u001b[0m\u001b[1;33m\u001b[0m\u001b[1;33m\u001b[0m\u001b[0m\n\u001b[0m\u001b[0;32m    896\u001b[0m \u001b[1;33m\u001b[0m\u001b[0m\n\u001b[0;32m    897\u001b[0m     \u001b[1;32mdef\u001b[0m \u001b[0mclose\u001b[0m\u001b[1;33m(\u001b[0m\u001b[0mself\u001b[0m\u001b[1;33m)\u001b[0m\u001b[1;33m:\u001b[0m\u001b[1;33m\u001b[0m\u001b[1;33m\u001b[0m\u001b[0m\n",
      "\u001b[1;32m~\\AppData\\Local\\Continuum\\anaconda3\\lib\\site-packages\\pandas\\io\\parsers.py\u001b[0m in \u001b[0;36m_make_engine\u001b[1;34m(self, engine)\u001b[0m\n\u001b[0;32m   1133\u001b[0m     \u001b[1;32mdef\u001b[0m \u001b[0m_make_engine\u001b[0m\u001b[1;33m(\u001b[0m\u001b[0mself\u001b[0m\u001b[1;33m,\u001b[0m \u001b[0mengine\u001b[0m\u001b[1;33m=\u001b[0m\u001b[1;34m\"c\"\u001b[0m\u001b[1;33m)\u001b[0m\u001b[1;33m:\u001b[0m\u001b[1;33m\u001b[0m\u001b[1;33m\u001b[0m\u001b[0m\n\u001b[0;32m   1134\u001b[0m         \u001b[1;32mif\u001b[0m \u001b[0mengine\u001b[0m \u001b[1;33m==\u001b[0m \u001b[1;34m\"c\"\u001b[0m\u001b[1;33m:\u001b[0m\u001b[1;33m\u001b[0m\u001b[1;33m\u001b[0m\u001b[0m\n\u001b[1;32m-> 1135\u001b[1;33m             \u001b[0mself\u001b[0m\u001b[1;33m.\u001b[0m\u001b[0m_engine\u001b[0m \u001b[1;33m=\u001b[0m \u001b[0mCParserWrapper\u001b[0m\u001b[1;33m(\u001b[0m\u001b[0mself\u001b[0m\u001b[1;33m.\u001b[0m\u001b[0mf\u001b[0m\u001b[1;33m,\u001b[0m \u001b[1;33m**\u001b[0m\u001b[0mself\u001b[0m\u001b[1;33m.\u001b[0m\u001b[0moptions\u001b[0m\u001b[1;33m)\u001b[0m\u001b[1;33m\u001b[0m\u001b[1;33m\u001b[0m\u001b[0m\n\u001b[0m\u001b[0;32m   1136\u001b[0m         \u001b[1;32melse\u001b[0m\u001b[1;33m:\u001b[0m\u001b[1;33m\u001b[0m\u001b[1;33m\u001b[0m\u001b[0m\n\u001b[0;32m   1137\u001b[0m             \u001b[1;32mif\u001b[0m \u001b[0mengine\u001b[0m \u001b[1;33m==\u001b[0m \u001b[1;34m\"python\"\u001b[0m\u001b[1;33m:\u001b[0m\u001b[1;33m\u001b[0m\u001b[1;33m\u001b[0m\u001b[0m\n",
      "\u001b[1;32m~\\AppData\\Local\\Continuum\\anaconda3\\lib\\site-packages\\pandas\\io\\parsers.py\u001b[0m in \u001b[0;36m__init__\u001b[1;34m(self, src, **kwds)\u001b[0m\n\u001b[0;32m   1915\u001b[0m         \u001b[0mkwds\u001b[0m\u001b[1;33m[\u001b[0m\u001b[1;34m\"usecols\"\u001b[0m\u001b[1;33m]\u001b[0m \u001b[1;33m=\u001b[0m \u001b[0mself\u001b[0m\u001b[1;33m.\u001b[0m\u001b[0musecols\u001b[0m\u001b[1;33m\u001b[0m\u001b[1;33m\u001b[0m\u001b[0m\n\u001b[0;32m   1916\u001b[0m \u001b[1;33m\u001b[0m\u001b[0m\n\u001b[1;32m-> 1917\u001b[1;33m         \u001b[0mself\u001b[0m\u001b[1;33m.\u001b[0m\u001b[0m_reader\u001b[0m \u001b[1;33m=\u001b[0m \u001b[0mparsers\u001b[0m\u001b[1;33m.\u001b[0m\u001b[0mTextReader\u001b[0m\u001b[1;33m(\u001b[0m\u001b[0msrc\u001b[0m\u001b[1;33m,\u001b[0m \u001b[1;33m**\u001b[0m\u001b[0mkwds\u001b[0m\u001b[1;33m)\u001b[0m\u001b[1;33m\u001b[0m\u001b[1;33m\u001b[0m\u001b[0m\n\u001b[0m\u001b[0;32m   1918\u001b[0m         \u001b[0mself\u001b[0m\u001b[1;33m.\u001b[0m\u001b[0munnamed_cols\u001b[0m \u001b[1;33m=\u001b[0m \u001b[0mself\u001b[0m\u001b[1;33m.\u001b[0m\u001b[0m_reader\u001b[0m\u001b[1;33m.\u001b[0m\u001b[0munnamed_cols\u001b[0m\u001b[1;33m\u001b[0m\u001b[1;33m\u001b[0m\u001b[0m\n\u001b[0;32m   1919\u001b[0m \u001b[1;33m\u001b[0m\u001b[0m\n",
      "\u001b[1;32mpandas\\_libs\\parsers.pyx\u001b[0m in \u001b[0;36mpandas._libs.parsers.TextReader.__cinit__\u001b[1;34m()\u001b[0m\n",
      "\u001b[1;32mpandas\\_libs\\parsers.pyx\u001b[0m in \u001b[0;36mpandas._libs.parsers.TextReader._setup_parser_source\u001b[1;34m()\u001b[0m\n",
      "\u001b[1;31mFileNotFoundError\u001b[0m: [Errno 2] File b'D:\\\\OneDrive\\\\OneDrive - WFT\\\\Compartido\\\\Well_Datasets\\\\La_Calera_Pluspetrol\\\\Post_Process\\\\sim_logs\\\\lc-3008\\\\Log20032021.csv' does not exist: b'D:\\\\OneDrive\\\\OneDrive - WFT\\\\Compartido\\\\Well_Datasets\\\\La_Calera_Pluspetrol\\\\Post_Process\\\\sim_logs\\\\lc-3008\\\\Log20032021.csv'"
     ]
    }
   ],
   "source": [
    "#import necesary libraries\n",
    "import pandas as pd\n",
    "import io\n",
    "import numpy as np\n",
    "import seaborn as sns\n",
    "import earthpy as et\n",
    "\n",
    "# Handle date time conversions between pandas and matplotlib\n",
    "from pandas.plotting import register_matplotlib_converters\n",
    "register_matplotlib_converters()\n",
    "\n",
    "# Use white grid plot background from seaborn\n",
    "sns.set(font_scale=1.5, style=\"whitegrid\")\n",
    "import matplotlib.pyplot as plt\n",
    "\n",
    "\n",
    "#simulated\n",
    "data1 = pd.read_csv(r'D:\\OneDrive\\OneDrive - WFT\\Compartido\\Well_Datasets\\La_Calera_Pluspetrol\\Post_Process\\sim_logs\\lc-3008\\Log20032021.csv')\n",
    "\n",
    "\n",
    "print(\"Data Loaded OK\")\n",
    "\n"
   ]
  },
  {
   "cell_type": "markdown",
   "metadata": {},
   "source": [
    "cleaning and packing data"
   ]
  },
  {
   "cell_type": "code",
   "execution_count": 98,
   "metadata": {},
   "outputs": [
    {
     "name": "stdout",
     "output_type": "stream",
     "text": [
      "<class 'pandas.core.frame.DataFrame'>\n",
      "RangeIndex: 910 entries, 0 to 909\n",
      "Data columns (total 36 columns):\n",
      "Time                    910 non-null object\n",
      "Pressure[Bar]           910 non-null float64\n",
      "DP[Bar]                 910 non-null float64\n",
      "Temperature[C]          910 non-null float64\n",
      "Velocity[m/s]           910 non-null float64\n",
      "Quality                 910 non-null float64\n",
      "WaterCut[%]             910 non-null int64\n",
      "Qg[m3/s]                910 non-null float64\n",
      "Ql[m3/s]                910 non-null float64\n",
      "Qo[m3/s]                910 non-null float64\n",
      "Qw[m3/s]                910 non-null float64\n",
      "QgStd[m3/s]             910 non-null float64\n",
      "QlStd[m3/s]             910 non-null float64\n",
      "QoStd[m3/s]             910 non-null float64\n",
      "QwStd[m3/s]             910 non-null float64\n",
      "TotWLR[%]               910 non-null float64\n",
      "TotGOR                  910 non-null float64\n",
      "GVF[%]                  910 non-null float64\n",
      "GasDen[kg/m3]           910 non-null float64\n",
      "GasVisc[cP]             910 non-null float64\n",
      "LiqDen[kg/m3]           910 non-null float64\n",
      "LiqVisc[cP]             910 non-null float64\n",
      "PVT_Var                 910 non-null int64\n",
      "MVT_Var_out             910 non-null int64\n",
      "Sonar_Vel_Var           910 non-null int64\n",
      "PI_Status_Out           910 non-null int64\n",
      "ErrQt                   910 non-null int64\n",
      "Vm[m/s]                 910 non-null float64\n",
      "diffPress_Input[bar]    910 non-null int64\n",
      "diffPressZero[bar]      910 non-null int64\n",
      "ParamFile               910 non-null int64\n",
      "PVTFile                 910 non-null int64\n",
      "Rhog                    910 non-null float64\n",
      "Rhol                    910 non-null float64\n",
      "Rhoo                    910 non-null float64\n",
      "Rhow                    910 non-null float64\n",
      "dtypes: float64(25), int64(10), object(1)\n",
      "memory usage: 256.1+ KB\n"
     ]
    }
   ],
   "source": [
    "data1[['Time', 'Pressure[Bar]', 'DP[Bar]', 'Temperature[C]',\n",
    "       'Velocity[m/s]', 'Quality',\n",
    "       'WaterCut[%]', 'Qg[m3/s]', 'Ql[m3/s]', 'Qo[m3/s]',\n",
    "       'Qw[m3/s]', 'QgStd[m3/s]', 'QlStd[m3/s]', 'QoStd[m3/s]', 'QwStd[m3/s]',\n",
    "       'TotWLR[%]', 'TotGOR', 'GVF[%]','GasDen[kg/m3]','GasVisc[cP]', \n",
    "       'LiqDen[kg/m3]', 'LiqVisc[cP]', \n",
    "       'PVT_Var', 'MVT_Var_out', 'Sonar_Vel_Var', \n",
    "       'PI_Status_Out', 'ErrQt', 'Vm[m/s]', \n",
    "       'diffPress_Input[bar]', 'diffPressZero[bar]', 'ParamFile', 'PVTFile',\n",
    "       'Rhog', 'Rhol', 'Rhoo', 'Rhow'\n",
    "       ]].info()\n",
    "\n",
    "\n",
    "#filetering columns\n",
    "\n",
    "ds_Q = data1[['Time', 'Pressure[Bar]', 'DP[Bar]', 'Temperature[C]',\n",
    "       'Velocity[m/s]', 'Quality',\n",
    "       'WaterCut[%]', 'Qg[m3/s]', 'Ql[m3/s]', 'Qo[m3/s]',\n",
    "       'Qw[m3/s]', 'QgStd[m3/s]', 'QlStd[m3/s]', 'QoStd[m3/s]', 'QwStd[m3/s]',\n",
    "       'TotWLR[%]', 'TotGOR', 'GVF[%]','GasDen[kg/m3]','GasVisc[cP]', \n",
    "       'LiqDen[kg/m3]', 'LiqVisc[cP]', \n",
    "       'PVT_Var', 'MVT_Var_out', 'Sonar_Vel_Var', \n",
    "       'PI_Status_Out', 'ErrQt', 'Vm[m/s]', \n",
    "       'diffPress_Input[bar]', 'diffPressZero[bar]', 'ParamFile', 'PVTFile',\n",
    "       'Rhog', 'Rhol', 'Rhoo', 'Rhow'\n",
    "       ]]\n",
    "\n",
    "#adding columns with 24hs rates\n",
    "\n",
    "ds_Q.loc[:,\"Qg[m3/d]\"] = ds_Q.loc[:,\"Qg[m3/s]\"] * 86400\n",
    "ds_Q.loc[:,\"Ql[m3/d]\"] = ds_Q.loc[:,\"Ql[m3/s]\"] * 86400\n",
    "ds_Q.loc[:,\"Qo[m3/d]\"] = ds_Q.loc[:,\"Qo[m3/s]\"] * 86400\n",
    "ds_Q.loc[:,\"Qw[m3/d]\"] = ds_Q.loc[:,\"Qw[m3/s]\"] * 86400\n",
    "ds_Q.loc[:,\"Gas Rate Sm3/d\"] = ds_Q.loc[:,\"QgStd[m3/s]\"] * 86400\n",
    "ds_Q.loc[:,\"QlStd[m3/d]\"] = ds_Q.loc[:,\"QlStd[m3/s]\"] * 86400\n",
    "ds_Q.loc[:,\"Oil Flow Sm3/d\"] = ds_Q.loc[:,\"QoStd[m3/s]\"] * 86400\n",
    "ds_Q.loc[:,\"Water Flow Rate m3/d\"] = ds_Q.loc[:,\"QwStd[m3/s]\"] * 86400\n",
    "\n",
    "#cleaning columns\n",
    "\n",
    "to_drop = ['Qg[m3/s]', 'Ql[m3/s]', 'Qo[m3/s]',\n",
    "       'Qw[m3/s]', 'QgStd[m3/s]', 'QlStd[m3/s]', 'QoStd[m3/s]', 'QwStd[m3/s]']\n",
    "\n",
    "ds_Qf= ds_Q.drop(to_drop, axis=1)\n",
    "\n",
    "\n",
    "ds = ds_Qf.copy()\n",
    "#ds1 = ds_data.groupby('DATE & TIME', as_index=True)\n",
    "ds = ds.set_index('Time')\n",
    "#ds2 = ds_Qf.set_index('Time').groupby(pd.Grouper(freq='17min')).mean()\n",
    "\n",
    "ds.index = pd.to_datetime(ds.index)\n",
    "#ds.index\n",
    "\n",
    "ds2 = ds.groupby(pd.Grouper(freq='1min')).mean() \n",
    "ds2.reset_index(level=0, inplace=True)\n",
    "\n"
   ]
  },
  {
   "cell_type": "markdown",
   "metadata": {},
   "source": [
    "Adding meter and well information\n",
    "\n",
    "G2 = ['LCA-3083','LCA-3084','LCA-3085']\n",
    "G7 = ['LCA-3005', 'LCA-3006', 'LCA-3007']\n",
    "G8 = ['LCA-3008', 'LCA-3009', 'LCA-3010']\n",
    "K3 = ['LCA-3011', 'LCA-3012', 'LCA-3013']\n",
    "lc3001 = ['LCA-3001']\n"
   ]
  },
  {
   "cell_type": "code",
   "execution_count": 99,
   "metadata": {},
   "outputs": [],
   "source": [
    "ds2['DATE & TIME'] = ds2['Time']\n",
    "ds2['Test'] = 'sim1'\n",
    "ds2['Gas Spec. Gravity air=1'] = ''\n",
    "ds2['Well Head Pressure  psig'] =''\n",
    "ds2['Well Head Temp deg C']=''\n",
    "ds2['Sep. Static Pressure psig']=''\n",
    "ds2['Sep. Gas Temp deg C'] = ''\n",
    "ds2['WELL Name'] = 'LCA-3008'\n",
    "ds2['CHOKE'] = '40'\n",
    "ds2['Gas Cumm. Sm3'] = ''\n",
    "ds2['GOR (Gas/Oil Ratio) m3/m3'] = ds2['TotGOR']\n",
    "ds2['Oil Density  g/cm3'] = ''\n",
    "ds2['Oil Temp deg C'] = ''\n",
    "ds2[' Raw Oil Flow  m3/d'] = ds2['Qo[m3/d]']\n",
    "ds2['WaterDensity Kg/m3'] = ''\n",
    "ds2['Flow Water Cut  %'] = ds2['TotWLR[%]']"
   ]
  },
  {
   "cell_type": "markdown",
   "metadata": {},
   "source": [
    "column order to merge"
   ]
  },
  {
   "cell_type": "code",
   "execution_count": 100,
   "metadata": {},
   "outputs": [],
   "source": [
    "d = ds2[['DATE & TIME','CHOKE','WELL Name', 'Test', 'Well Head Pressure  psig', 'Well Head Temp deg C',\n",
    "         'Sep. Static Pressure psig', 'Sep. Gas Temp deg C', 'Gas Spec. Gravity air=1','Gas Rate Sm3/d',\n",
    "        'Gas Cumm. Sm3','GOR (Gas/Oil Ratio) m3/m3','Oil Density  g/cm3','Oil Temp deg C',\n",
    "         ' Raw Oil Flow  m3/d','Oil Flow Sm3/d','Water Flow Rate m3/d','WaterDensity Kg/m3',\n",
    "        'Flow Water Cut  %'\n",
    "        ]]"
   ]
  },
  {
   "cell_type": "markdown",
   "metadata": {},
   "source": [
    "export to csv"
   ]
  },
  {
   "cell_type": "code",
   "execution_count": 101,
   "metadata": {},
   "outputs": [],
   "source": [
    "d.to_csv(r'D:\\OneDrive\\OneDrive - WFT\\Compartido\\Well_Datasets\\La_Calera_Pluspetrol\\Post_Process\\append\\sim1_lc_3008.csv')"
   ]
  },
  {
   "cell_type": "markdown",
   "metadata": {},
   "source": [
    "append files\n"
   ]
  },
  {
   "cell_type": "code",
   "execution_count": 37,
   "metadata": {},
   "outputs": [],
   "source": [
    "#TO combine multiple files\n",
    "\n",
    "import glob\n",
    "import pandas as pd\n",
    "\n",
    "# get data file names\n",
    "path = r'D:\\OneDrive\\OneDrive - WFT\\Compartido\\Well_Datasets\\La_Calera_Pluspetrol\\Post_Process\\append'\n",
    "filenames = glob.glob(path + \"\\*.csv\")\n",
    "\n",
    "dfs = []\n",
    "for filename in filenames:\n",
    "    dfs.append(pd.read_csv(filename,low_memory=False).assign(filename = filename))\n",
    "\n",
    "# Concatenate all data into one DataFrame\n",
    "big_frame = pd.concat(dfs, ignore_index=True,sort=False)\n",
    "\n",
    "big_frame.to_csv(r\"D:\\OneDrive\\OneDrive - WFT\\Compartido\\Well_Datasets\\La_Calera_Pluspetrol\\Post_Process\\append\\raw_full.csv\", index=False, encoding='utf-8-sig')"
   ]
  }
 ],
 "metadata": {
  "kernelspec": {
   "display_name": "Python 3",
   "language": "python",
   "name": "python3"
  },
  "language_info": {
   "codemirror_mode": {
    "name": "ipython",
    "version": 3
   },
   "file_extension": ".py",
   "mimetype": "text/x-python",
   "name": "python",
   "nbconvert_exporter": "python",
   "pygments_lexer": "ipython3",
   "version": "3.7.4"
  }
 },
 "nbformat": 4,
 "nbformat_minor": 4
}
