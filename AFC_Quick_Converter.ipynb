{
 "cells": [
  {
   "cell_type": "markdown",
   "metadata": {},
   "source": [
    "Notebook for easy transfer from RAW to RAW in a time average time"
   ]
  },
  {
   "cell_type": "code",
   "execution_count": 1,
   "metadata": {},
   "outputs": [
    {
     "name": "stdout",
     "output_type": "stream",
     "text": [
      "Data Loaded OK\n"
     ]
    }
   ],
   "source": [
    "#import necesary libraries\n",
    "import pandas as pd\n",
    "import numpy as np\n",
    "\n",
    "#read data from file\n",
    "#data1 = pd.read_csv(r'D:\\OneDrive\\OneDrive - WFT\\Compartido\\Flow Measurements\\Operations\\PlusPetrol_LC_Test_Movil\\PAD_3001\\raw\\Log11062020.csv')\n",
    "\n",
    "data1 = pd.read_csv(r'D:\\OneDrive\\OneDrive - WFT\\Compartido\\Flow Measurements\\Operations\\PlusPetrol_LC_Test_Movil\\PAD_3001\\raw\\Log16022021.csv')\n",
    "\n",
    "\n",
    "print(\"Data Loaded OK\")"
   ]
  },
  {
   "cell_type": "code",
   "execution_count": 3,
   "metadata": {},
   "outputs": [
    {
     "name": "stdout",
     "output_type": "stream",
     "text": [
      "Transformation OK, the output file is ready to use\n"
     ]
    }
   ],
   "source": [
    "# \n",
    "#filetering columns\n",
    "\n",
    "ds_Q = data1[['Time', 'Pressure[Bar]', 'DP[Bar]', 'Temperature[C]',\n",
    "       'Velocity[m/s]', 'Quality',\n",
    "       'WaterCut[%]', 'Xl', 'WWC[%]', 'ch1[nA]', 'ch2[nA]', 'ch3[nA]',\n",
    "       'ch4[nA]', 'ch5[nA]','TotWLR[%]', 'TotGOR', 'GVF[%]', 'XLM',\n",
    "       'Frg_dp_out', 'GasDen[kg/m3]', 'GasVisc[cP]', 'Kappa',\n",
    "       'LiqDen[kg/m3]', 'LiqVisc[cP]','Qg[m3/s]', 'Ql[m3/s]', 'Qo[m3/s]',\n",
    "       'Qw[m3/s]', 'QgStd[m3/s]', 'QlStd[m3/s]', 'QoStd[m3/s]', 'QwStd[m3/s]',\n",
    "       'TotWLR[%]', 'TotGOR', 'GVF[%]'\n",
    "       ]]\n",
    "\n",
    "#adding columns with 24hs rates\n",
    "\n",
    "ds_Q.loc[:,\"Qg[m3/d]\"] = ds_Q.loc[:,\"Qg[m3/s]\"] * 86400\n",
    "ds_Q.loc[:,\"Ql[m3/d]\"] = ds_Q.loc[:,\"Ql[m3/s]\"] * 86400\n",
    "ds_Q.loc[:,\"Qo[m3/d]\"] = ds_Q.loc[:,\"Qo[m3/s]\"] * 86400\n",
    "ds_Q.loc[:,\"Qw[m3/d]\"] = ds_Q.loc[:,\"Qw[m3/s]\"] * 86400\n",
    "ds_Q.loc[:,\"QgStd[m3/d]\"] = ds_Q.loc[:,\"QgStd[m3/s]\"] * 86400\n",
    "ds_Q.loc[:,\"QlStd[m3/d]\"] = ds_Q.loc[:,\"QlStd[m3/s]\"] * 86400\n",
    "ds_Q.loc[:,\"QoStd[m3/d]\"] = ds_Q.loc[:,\"QoStd[m3/s]\"] * 86400\n",
    "ds_Q.loc[:,\"QwStd[m3/d]\"] = ds_Q.loc[:,\"QwStd[m3/s]\"] * 86400\n",
    "\n",
    "#cleaning columns\n",
    "\n",
    "to_drop = ['Qg[m3/s]', 'Ql[m3/s]', 'Qo[m3/s]',\n",
    "       'Qw[m3/s]', 'QgStd[m3/s]', 'QlStd[m3/s]', 'QoStd[m3/s]', 'QwStd[m3/s]',\n",
    "       'TotGOR', 'GVF[%]']\n",
    "\n",
    "ds_Qf= ds_Q.drop(to_drop, axis=1)\n",
    "\n",
    "ds = ds_Qf.copy()\n",
    "\n",
    "ds = ds.set_index('Time')\n",
    "\n",
    "ds.index = pd.to_datetime(ds.index)\n",
    "\n",
    "ds2 = ds.groupby(pd.Grouper(freq='60min')).mean() \n",
    "ds2.head(5)\n",
    "\n",
    "\n",
    "#export in a way to compare \n",
    "\n",
    "ds2.to_csv(r'D:\\OneDrive\\OneDrive - WFT\\Compartido\\Flow Measurements\\Operations\\PlusPetrol_LC_Test_Movil\\PAD_3001\\raw_conv\\export_processed.csv')\n",
    "\n",
    "print(\"Transformation OK, the output file is ready to use\")"
   ]
  }
 ],
 "metadata": {
  "kernelspec": {
   "display_name": "Python 3",
   "language": "python",
   "name": "python3"
  },
  "language_info": {
   "codemirror_mode": {
    "name": "ipython",
    "version": 3
   },
   "file_extension": ".py",
   "mimetype": "text/x-python",
   "name": "python",
   "nbconvert_exporter": "python",
   "pygments_lexer": "ipython3",
   "version": "3.7.4"
  }
 },
 "nbformat": 4,
 "nbformat_minor": 4
}
