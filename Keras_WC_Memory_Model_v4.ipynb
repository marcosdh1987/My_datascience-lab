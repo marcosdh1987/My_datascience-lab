{
 "cells": [
  {
   "cell_type": "code",
   "execution_count": 1,
   "metadata": {},
   "outputs": [
    {
     "data": {
      "text/html": [
       "<div>\n",
       "<style scoped>\n",
       "    .dataframe tbody tr th:only-of-type {\n",
       "        vertical-align: middle;\n",
       "    }\n",
       "\n",
       "    .dataframe tbody tr th {\n",
       "        vertical-align: top;\n",
       "    }\n",
       "\n",
       "    .dataframe thead th {\n",
       "        text-align: right;\n",
       "    }\n",
       "</style>\n",
       "<table border=\"1\" class=\"dataframe\">\n",
       "  <thead>\n",
       "    <tr style=\"text-align: right;\">\n",
       "      <th></th>\n",
       "      <th>AO1</th>\n",
       "      <th>AO2</th>\n",
       "      <th>AO3</th>\n",
       "      <th>AO4</th>\n",
       "      <th>AO5</th>\n",
       "      <th>WLR</th>\n",
       "      <th>XL</th>\n",
       "      <th>a1</th>\n",
       "      <th>a2</th>\n",
       "      <th>a3</th>\n",
       "      <th>...</th>\n",
       "      <th>aw1</th>\n",
       "      <th>aw2</th>\n",
       "      <th>aw3</th>\n",
       "      <th>aw4</th>\n",
       "      <th>aw5</th>\n",
       "      <th>ch1</th>\n",
       "      <th>ch2</th>\n",
       "      <th>ch3</th>\n",
       "      <th>ch4</th>\n",
       "      <th>ch5</th>\n",
       "    </tr>\n",
       "  </thead>\n",
       "  <tbody>\n",
       "    <tr>\n",
       "      <td>0</td>\n",
       "      <td>-0.100</td>\n",
       "      <td>-0.006</td>\n",
       "      <td>-0.068</td>\n",
       "      <td>1.286</td>\n",
       "      <td>0.188</td>\n",
       "      <td>55.1</td>\n",
       "      <td>0.58</td>\n",
       "      <td>30092.84</td>\n",
       "      <td>2730.26</td>\n",
       "      <td>28477.1</td>\n",
       "      <td>...</td>\n",
       "      <td>-0.0165</td>\n",
       "      <td>4.5484</td>\n",
       "      <td>0.8072</td>\n",
       "      <td>0.7896</td>\n",
       "      <td>8.3758</td>\n",
       "      <td>6576.060889</td>\n",
       "      <td>145.759695</td>\n",
       "      <td>5807.892566</td>\n",
       "      <td>600.877711</td>\n",
       "      <td>16.196712</td>\n",
       "    </tr>\n",
       "    <tr>\n",
       "      <td>1</td>\n",
       "      <td>0.000</td>\n",
       "      <td>0.025</td>\n",
       "      <td>0.000</td>\n",
       "      <td>1.311</td>\n",
       "      <td>0.222</td>\n",
       "      <td>54.2</td>\n",
       "      <td>0.60</td>\n",
       "      <td>30092.84</td>\n",
       "      <td>2730.26</td>\n",
       "      <td>28477.1</td>\n",
       "      <td>...</td>\n",
       "      <td>-0.0165</td>\n",
       "      <td>4.5484</td>\n",
       "      <td>0.8072</td>\n",
       "      <td>0.7896</td>\n",
       "      <td>8.3758</td>\n",
       "      <td>6576.060889</td>\n",
       "      <td>145.759695</td>\n",
       "      <td>5807.892566</td>\n",
       "      <td>600.877711</td>\n",
       "      <td>16.196712</td>\n",
       "    </tr>\n",
       "    <tr>\n",
       "      <td>2</td>\n",
       "      <td>0.649</td>\n",
       "      <td>0.258</td>\n",
       "      <td>0.143</td>\n",
       "      <td>1.389</td>\n",
       "      <td>0.290</td>\n",
       "      <td>48.2</td>\n",
       "      <td>0.71</td>\n",
       "      <td>30092.84</td>\n",
       "      <td>2730.26</td>\n",
       "      <td>28477.1</td>\n",
       "      <td>...</td>\n",
       "      <td>-0.0165</td>\n",
       "      <td>4.5484</td>\n",
       "      <td>0.8072</td>\n",
       "      <td>0.7896</td>\n",
       "      <td>8.3758</td>\n",
       "      <td>6576.060889</td>\n",
       "      <td>145.759695</td>\n",
       "      <td>5807.892566</td>\n",
       "      <td>600.877711</td>\n",
       "      <td>16.196712</td>\n",
       "    </tr>\n",
       "    <tr>\n",
       "      <td>3</td>\n",
       "      <td>1.167</td>\n",
       "      <td>0.468</td>\n",
       "      <td>0.286</td>\n",
       "      <td>1.487</td>\n",
       "      <td>0.380</td>\n",
       "      <td>48.9</td>\n",
       "      <td>0.72</td>\n",
       "      <td>30092.84</td>\n",
       "      <td>2730.26</td>\n",
       "      <td>28477.1</td>\n",
       "      <td>...</td>\n",
       "      <td>-0.0165</td>\n",
       "      <td>4.5484</td>\n",
       "      <td>0.8072</td>\n",
       "      <td>0.7896</td>\n",
       "      <td>8.3758</td>\n",
       "      <td>6576.060889</td>\n",
       "      <td>145.759695</td>\n",
       "      <td>5807.892566</td>\n",
       "      <td>600.877711</td>\n",
       "      <td>16.196712</td>\n",
       "    </tr>\n",
       "    <tr>\n",
       "      <td>4</td>\n",
       "      <td>1.647</td>\n",
       "      <td>0.672</td>\n",
       "      <td>0.429</td>\n",
       "      <td>1.593</td>\n",
       "      <td>0.479</td>\n",
       "      <td>54.2</td>\n",
       "      <td>0.65</td>\n",
       "      <td>30092.84</td>\n",
       "      <td>2730.26</td>\n",
       "      <td>28477.1</td>\n",
       "      <td>...</td>\n",
       "      <td>-0.0165</td>\n",
       "      <td>4.5484</td>\n",
       "      <td>0.8072</td>\n",
       "      <td>0.7896</td>\n",
       "      <td>8.3758</td>\n",
       "      <td>6576.060889</td>\n",
       "      <td>145.759695</td>\n",
       "      <td>5807.892566</td>\n",
       "      <td>600.877711</td>\n",
       "      <td>16.196712</td>\n",
       "    </tr>\n",
       "  </tbody>\n",
       "</table>\n",
       "<p>5 rows × 22 columns</p>\n",
       "</div>"
      ],
      "text/plain": [
       "     AO1    AO2    AO3    AO4    AO5   WLR    XL        a1       a2       a3  \\\n",
       "0 -0.100 -0.006 -0.068  1.286  0.188  55.1  0.58  30092.84  2730.26  28477.1   \n",
       "1  0.000  0.025  0.000  1.311  0.222  54.2  0.60  30092.84  2730.26  28477.1   \n",
       "2  0.649  0.258  0.143  1.389  0.290  48.2  0.71  30092.84  2730.26  28477.1   \n",
       "3  1.167  0.468  0.286  1.487  0.380  48.9  0.72  30092.84  2730.26  28477.1   \n",
       "4  1.647  0.672  0.429  1.593  0.479  54.2  0.65  30092.84  2730.26  28477.1   \n",
       "\n",
       "   ...     aw1     aw2     aw3     aw4     aw5          ch1         ch2  \\\n",
       "0  ... -0.0165  4.5484  0.8072  0.7896  8.3758  6576.060889  145.759695   \n",
       "1  ... -0.0165  4.5484  0.8072  0.7896  8.3758  6576.060889  145.759695   \n",
       "2  ... -0.0165  4.5484  0.8072  0.7896  8.3758  6576.060889  145.759695   \n",
       "3  ... -0.0165  4.5484  0.8072  0.7896  8.3758  6576.060889  145.759695   \n",
       "4  ... -0.0165  4.5484  0.8072  0.7896  8.3758  6576.060889  145.759695   \n",
       "\n",
       "           ch3         ch4        ch5  \n",
       "0  5807.892566  600.877711  16.196712  \n",
       "1  5807.892566  600.877711  16.196712  \n",
       "2  5807.892566  600.877711  16.196712  \n",
       "3  5807.892566  600.877711  16.196712  \n",
       "4  5807.892566  600.877711  16.196712  \n",
       "\n",
       "[5 rows x 22 columns]"
      ]
     },
     "execution_count": 1,
     "metadata": {},
     "output_type": "execute_result"
    }
   ],
   "source": [
    "import pandas as pd\n",
    "\n",
    "ds1 = pd.read_csv('D:\\Google Drive\\Deep_Learning\\Jupiter_Notebooks\\ds\\TestCorcovo\\RE_MP_mem.csv')\n",
    "\n",
    "ds1.head()\n"
   ]
  },
  {
   "cell_type": "code",
   "execution_count": 2,
   "metadata": {},
   "outputs": [
    {
     "name": "stdout",
     "output_type": "stream",
     "text": [
      "    WLR    XL     aw1     aw2     aw3     aw4   aw5     acal1     acal2  \\\n",
      "0  55.1  0.58 -0.0165  4.5484  0.8072  0.7896  8.38  1.520844  2.929931   \n",
      "1  54.2  0.60 -0.0165  4.5484  0.8072  0.7896  8.38  1.520844  2.929931   \n",
      "2  48.2  0.71 -0.0165  4.5484  0.8072  0.7896  8.38  1.520844  2.929931   \n",
      "3  48.9  0.72 -0.0165  4.5484  0.8072  0.7896  8.38  1.520844  2.929931   \n",
      "4  54.2  0.65 -0.0165  4.5484  0.8072  0.7896  8.38  1.520844  2.929931   \n",
      "\n",
      "      acal3     acal4     acal5  \n",
      "0  1.589881  2.049265  5.384698  \n",
      "1  1.589881  2.049265  5.384698  \n",
      "2  1.589881  2.049265  5.384698  \n",
      "3  1.589881  2.049265  5.384698  \n",
      "4  1.589881  2.049265  5.384698  \n",
      "     AO1    AO2    AO3    AO4    AO5\n",
      "0 -0.100 -0.006 -0.068  1.286  0.188\n",
      "1  0.000  0.025  0.000  1.311  0.222\n",
      "2  0.649  0.258  0.143  1.389  0.290\n",
      "3  1.167  0.468  0.286  1.487  0.380\n",
      "4  1.647  0.672  0.429  1.593  0.479\n"
     ]
    }
   ],
   "source": [
    "import numpy as np\n",
    "\n",
    "n = 30\n",
    "#def inputs\n",
    "A = np.full((n,5),[6576.1,145.8,5807.9,600.9,16.19671])\n",
    "aw = np.full((n,5),[-0.0165,4.5484,0.8072,0.7896,8.38])\n",
    "acal = np.full((n,5),[30092.8,2730.3,28477.1,4664.3,3531.6])\n",
    "wc = ds1['WLR']\n",
    "Xl = ds1['XL']\n",
    "\n",
    "\n",
    "aw_d = pd.DataFrame(aw)\n",
    "acal_d = pd.DataFrame(acal)\n",
    "\n",
    "A1 = -np.log(A/acal)\n",
    "A1 = pd.DataFrame(A1)\n",
    "#def outputs\n",
    "outputs = ds1[['AO1','AO2','AO3','AO4','AO5']]\n",
    "\n",
    "\n",
    "inputs = pd.DataFrame(ds1[['WLR','XL']])\n",
    "inputs[['aw1','aw2','aw3','aw4','aw5']] = aw_d[:]\n",
    "inputs[['acal1','acal2','acal3','acal4','acal5']] = A1[:]\n",
    "\n",
    "#inputs = pd.DataFrame(ds1[['PC1 [nA]','PC2 [nA]','PC3 [nA]','PC4 [nA]','XL [-]']])\n",
    "#inputs[['aw1','aw2','aw3','aw4']] = aw_d[:]\n",
    "#inputs[['ao1','ao2','ao3','ao4']] = ao_d[:]\n",
    "#inputs.head()\n",
    "print(inputs.head())\n",
    "print(outputs.head())"
   ]
  },
  {
   "cell_type": "code",
   "execution_count": 3,
   "metadata": {},
   "outputs": [],
   "source": [
    "from sklearn.model_selection import train_test_split\n",
    "\n",
    "X_train, X_test, y_train, y_test = train_test_split(inputs,outputs, test_size= 0.3, random_state=42)"
   ]
  },
  {
   "cell_type": "code",
   "execution_count": 9,
   "metadata": {},
   "outputs": [
    {
     "name": "stderr",
     "output_type": "stream",
     "text": [
      "Using Theano backend.\n"
     ]
    },
    {
     "name": "stdout",
     "output_type": "stream",
     "text": [
      "Model: \"sequential_1\"\n",
      "_________________________________________________________________\n",
      "Layer (type)                 Output Shape              Param #   \n",
      "=================================================================\n",
      "dense_1 (Dense)              (None, 64)                832       \n",
      "_________________________________________________________________\n",
      "dense_2 (Dense)              (None, 64)                4160      \n",
      "_________________________________________________________________\n",
      "dense_3 (Dense)              (None, 5)                 325       \n",
      "=================================================================\n",
      "Total params: 5,317\n",
      "Trainable params: 5,317\n",
      "Non-trainable params: 0\n",
      "_________________________________________________________________\n"
     ]
    }
   ],
   "source": [
    "from keras.layers import Input, Dense, Concatenate\n",
    "from keras.models import Sequential\n",
    "from keras.models import Model\n",
    "\n",
    "model = Sequential()\n",
    "model.add(Dense(64, input_dim=12, activation='relu'))\n",
    "model.add(Dense(64, activation='relu'))\n",
    "model.add(Dense(5))\n",
    "model.compile(optimizer='adam', loss='mean_absolute_error')\n",
    "model.summary()\n"
   ]
  },
  {
   "cell_type": "code",
   "execution_count": 8,
   "metadata": {},
   "outputs": [
    {
     "ename": "ModuleNotFoundError",
     "evalue": "No module named 'keras'",
     "output_type": "error",
     "traceback": [
      "\u001b[1;31m---------------------------------------------------------------------------\u001b[0m",
      "\u001b[1;31mModuleNotFoundError\u001b[0m                       Traceback (most recent call last)",
      "\u001b[1;32m<ipython-input-8-06bad5089ef3>\u001b[0m in \u001b[0;36m<module>\u001b[1;34m\u001b[0m\n\u001b[1;32m----> 1\u001b[1;33m \u001b[1;32mfrom\u001b[0m \u001b[0mkeras\u001b[0m\u001b[1;33m.\u001b[0m\u001b[0mcallbacks\u001b[0m \u001b[1;32mimport\u001b[0m \u001b[0mCallback\u001b[0m\u001b[1;33m\u001b[0m\u001b[1;33m\u001b[0m\u001b[0m\n\u001b[0m\u001b[0;32m      2\u001b[0m \u001b[1;33m\u001b[0m\u001b[0m\n\u001b[0;32m      3\u001b[0m \u001b[1;31m# Display training progress by printing a single dot for each completed epoch\u001b[0m\u001b[1;33m\u001b[0m\u001b[1;33m\u001b[0m\u001b[1;33m\u001b[0m\u001b[0m\n\u001b[0;32m      4\u001b[0m \u001b[1;32mclass\u001b[0m \u001b[0mPrintDot\u001b[0m\u001b[1;33m(\u001b[0m\u001b[0mCallback\u001b[0m\u001b[1;33m)\u001b[0m\u001b[1;33m:\u001b[0m\u001b[1;33m\u001b[0m\u001b[1;33m\u001b[0m\u001b[0m\n\u001b[0;32m      5\u001b[0m   \u001b[1;32mdef\u001b[0m \u001b[0mon_epoch_end\u001b[0m\u001b[1;33m(\u001b[0m\u001b[0mself\u001b[0m\u001b[1;33m,\u001b[0m \u001b[0mepoch\u001b[0m\u001b[1;33m,\u001b[0m \u001b[0mlogs\u001b[0m\u001b[1;33m)\u001b[0m\u001b[1;33m:\u001b[0m\u001b[1;33m\u001b[0m\u001b[1;33m\u001b[0m\u001b[0m\n",
      "\u001b[1;31mModuleNotFoundError\u001b[0m: No module named 'keras'"
     ]
    }
   ],
   "source": [
    "from keras.callbacks import Callback\n",
    "\n",
    "# Display training progress by printing a single dot for each completed epoch\n",
    "class PrintDot(Callback):\n",
    "  def on_epoch_end(self, epoch, logs):\n",
    "    if epoch % 100 == 0: print('')\n",
    "    print('.', end='')\n",
    "    \n",
    "#Visualize the model's training progress using the stats stored in the history object.\n",
    "from keras.callbacks import History \n",
    "history = History()\n",
    "    \n",
    "    \n",
    "history = model.fit(X_train,y_train, epochs=2000, batch_size=4, validation_split = 0.2, verbose=0,\n",
    "  callbacks=[PrintDot()])"
   ]
  },
  {
   "cell_type": "code",
   "execution_count": 47,
   "metadata": {},
   "outputs": [
    {
     "data": {
      "text/html": [
       "<div>\n",
       "<style scoped>\n",
       "    .dataframe tbody tr th:only-of-type {\n",
       "        vertical-align: middle;\n",
       "    }\n",
       "\n",
       "    .dataframe tbody tr th {\n",
       "        vertical-align: top;\n",
       "    }\n",
       "\n",
       "    .dataframe thead th {\n",
       "        text-align: right;\n",
       "    }\n",
       "</style>\n",
       "<table border=\"1\" class=\"dataframe\">\n",
       "  <thead>\n",
       "    <tr style=\"text-align: right;\">\n",
       "      <th></th>\n",
       "      <th>val_loss</th>\n",
       "      <th>loss</th>\n",
       "      <th>epoch</th>\n",
       "    </tr>\n",
       "  </thead>\n",
       "  <tbody>\n",
       "    <tr>\n",
       "      <td>1995</td>\n",
       "      <td>0.411527</td>\n",
       "      <td>0.434882</td>\n",
       "      <td>1995</td>\n",
       "    </tr>\n",
       "    <tr>\n",
       "      <td>1996</td>\n",
       "      <td>0.168505</td>\n",
       "      <td>0.281904</td>\n",
       "      <td>1996</td>\n",
       "    </tr>\n",
       "    <tr>\n",
       "      <td>1997</td>\n",
       "      <td>0.198758</td>\n",
       "      <td>0.599518</td>\n",
       "      <td>1997</td>\n",
       "    </tr>\n",
       "    <tr>\n",
       "      <td>1998</td>\n",
       "      <td>0.502949</td>\n",
       "      <td>0.353056</td>\n",
       "      <td>1998</td>\n",
       "    </tr>\n",
       "    <tr>\n",
       "      <td>1999</td>\n",
       "      <td>0.500690</td>\n",
       "      <td>0.570814</td>\n",
       "      <td>1999</td>\n",
       "    </tr>\n",
       "  </tbody>\n",
       "</table>\n",
       "</div>"
      ],
      "text/plain": [
       "      val_loss      loss  epoch\n",
       "1995  0.411527  0.434882   1995\n",
       "1996  0.168505  0.281904   1996\n",
       "1997  0.198758  0.599518   1997\n",
       "1998  0.502949  0.353056   1998\n",
       "1999  0.500690  0.570814   1999"
      ]
     },
     "execution_count": 47,
     "metadata": {},
     "output_type": "execute_result"
    }
   ],
   "source": [
    "#Visualize the model's training progress using the stats stored in the history object.\n",
    "\n",
    "hist = pd.DataFrame(history.history)\n",
    "hist['epoch'] = history.epoch\n",
    "hist.tail()"
   ]
  },
  {
   "cell_type": "code",
   "execution_count": 48,
   "metadata": {},
   "outputs": [
    {
     "data": {
      "image/png": "[encoded data removed]",
      "text/plain": [
       "<Figure size 432x288 with 1 Axes>"
      ]
     },
     "metadata": {
      "needs_background": "light"
     },
     "output_type": "display_data"
    }
   ],
   "source": [
    "import matplotlib.pyplot as plt\n",
    "\n",
    "def plot_loss(history):\n",
    "  plt.plot(history.history['loss'], label='loss')\n",
    "  plt.plot(history.history['val_loss'], label='val_loss')\n",
    "  plt.ylim([0, 10])\n",
    "  plt.xlabel('Epoch')\n",
    "  plt.ylabel('Error [WC]')\n",
    "  plt.legend()\n",
    "  plt.grid(True)\n",
    "\n",
    "plot_loss(history)"
   ]
  },
  {
   "cell_type": "code",
   "execution_count": 49,
   "metadata": {},
   "outputs": [
    {
     "name": "stdout",
     "output_type": "stream",
     "text": [
      "9/9 [==============================] - 0s 0us/step\n"
     ]
    },
    {
     "data": {
      "text/plain": [
       "0.4692533314228058"
      ]
     },
     "execution_count": 49,
     "metadata": {},
     "output_type": "execute_result"
    }
   ],
   "source": [
    "model.evaluate(X_test,y_test)"
   ]
  },
  {
   "cell_type": "code",
   "execution_count": 50,
   "metadata": {},
   "outputs": [
    {
     "data": {
      "image/png": "[encoded data removed]",
      "text/plain": [
       "<Figure size 432x288 with 1 Axes>"
      ]
     },
     "metadata": {
      "needs_background": "light"
     },
     "output_type": "display_data"
    }
   ],
   "source": [
    "\n",
    "plt.scatter(outputs, model.predict(inputs), label='Data')\n",
    "plt.xlabel('Data')\n",
    "plt.ylabel('Predictions')\n",
    "plt.legend()\n",
    "plt.show()"
   ]
  },
  {
   "cell_type": "code",
   "execution_count": 53,
   "metadata": {},
   "outputs": [
    {
     "name": "stdout",
     "output_type": "stream",
     "text": [
      "prediction =  [[0.90658987 0.5776395  0.2546404  1.3620324  0.38762712]]\n",
      "Trained value =       AO1    AO2    AO3    AO4   AO5\n",
      "3  1.167  0.468  0.286  1.487  0.38\n"
     ]
    }
   ],
   "source": [
    "#individual prediction\n",
    "\n",
    "#dataset input\n",
    "x = inputs.iloc[3:4]\n",
    "y = outputs.iloc[3:4]\n",
    "#manual input \n",
    "# 'PC1 [nA]','PC2 [nA]','PC3 [nA]','PC4 [nA]','XL [-]','aw1','aw2','aw3','aw4','ao1','ao2','ao3','ao4'\n",
    "#x = pd.DataFrame([[25195.03,239.13,12856.83,1987.97,1.033,-0.0170,2.9304,0.5466,0.5366,3.1292,2.4890,1.8896,3.0607]])\n",
    "#y = '97.91'\n",
    "\n",
    "\n",
    "print('prediction = ', model.predict(x) )\n",
    "print('Trained value = ', y )"
   ]
  }
 ],
 "metadata": {
  "kernelspec": {
   "display_name": "Python 3",
   "language": "python",
   "name": "python3"
  },
  "language_info": {
   "codemirror_mode": {
    "name": "ipython",
    "version": 3
   },
   "file_extension": ".py",
   "mimetype": "text/x-python",
   "name": "python",
   "nbconvert_exporter": "python",
   "pygments_lexer": "ipython3",
   "version": "3.7.4"
  }
 },
 "nbformat": 4,
 "nbformat_minor": 4
}
