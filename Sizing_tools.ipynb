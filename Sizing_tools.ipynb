{
 "cells": [
  {
   "cell_type": "markdown",
   "metadata": {},
   "source": [
    "Flow Metering Calculations tool\n"
   ]
  },
  {
   "cell_type": "markdown",
   "metadata": {},
   "source": [
    "Separator Data inputs\n",
    "\n",
    "<img src=\"image.png\">\n",
    "\n"
   ]
  },
  {
   "cell_type": "code",
   "execution_count": 55,
   "metadata": {},
   "outputs": [
    {
     "name": "stdout",
     "output_type": "stream",
     "text": [
      "the maximun liquid flow rate using  2  minutes of retention time is:  1037.63  m3/d\n",
      "the maximun Gas flow rate using  2  minutes of retention time is:  1037.63  m3/d\n"
     ]
    }
   ],
   "source": [
    "#separator information\n",
    "import math\n",
    "\n",
    "#vessel size\n",
    "vol3 = (math.pi * ((2-0.0182)/2) ** 2) * 7.92 # example Big Flash Separator\n",
    "\n",
    "D = 1.09728   #1.09728\n",
    "W = 3.048     #3.048\n",
    "\n",
    "VolT = (math.pi * (D/2) ** 2) * W\n",
    "\"\"\"\n",
    "\n",
    "W=\n",
    "D=\n",
    "vol = W * D\n",
    "\n",
    "\"\"\"\n",
    "\n",
    "\n",
    "liql = 0.5  #0-1 fraction liquid level\n",
    "volliq = VolT * liql    #\n",
    "volG = VolT - volliq\n",
    "time = 120  # seconds\n",
    "\n",
    "Qmaxl = (volliq / time) * 86400 # to get m3/d\n",
    "Qmaxg = (volG / time) * 86400   # to get m3/d\n",
    "\n",
    "\n",
    "\n",
    "print(\"the maximun liquid flow rate using \",\"{:.0f}\".format(time/60),\" minutes of retention time is: \",\"{:.2f}\".format(Qmaxl),\" m3/d\")\n",
    "print(\"the maximun Gas flow rate using \",\"{:.0f}\".format(time/60),\" minutes of retention time is: \",\"{:.2f}\".format(Qmaxg),\" m3/d\")\n"
   ]
  },
  {
   "cell_type": "markdown",
   "metadata": {},
   "source": [
    "Vl Velocity of liquid flow (ft/sec)\n",
    "\n",
    "\n",
    "$\\ Vl =(0.012) \\frac{\\ Ql}{d^{2}} $\n",
    "\n",
    "$\\ Ql =   \\frac{\\ Vl d^{2}}{0.012} $\n",
    "\n",
    "Where:  \n",
    "\n",
    "-Ql lquid flow rate (bpd)\n",
    "\n",
    "-d internal diameter\n",
    "\n",
    "Vg Velocity of gas flow (ft/sec)\n",
    "\n",
    "$\\ Vg =(60) \\frac{\\ Qg TZ}{d^{2}P} $\n",
    "\n",
    "$\\ Qq =   \\frac{\\ Vg d^{2}P}{60TZ} $\n",
    "\n",
    "Where:\n",
    "\n",
    "-T Temperature [°R]\n",
    "\n",
    "-P Pressure [psia]\n",
    "\n",
    "-d internal diameter [in]\n",
    "\n",
    "-Z gas compressibility factor\n",
    "\n",
    "-Qg gas flow MMSCFD"
   ]
  },
  {
   "cell_type": "code",
   "execution_count": 2,
   "metadata": {},
   "outputs": [
    {
     "data": {
      "text/html": [
       "<div>\n",
       "<style scoped>\n",
       "    .dataframe tbody tr th:only-of-type {\n",
       "        vertical-align: middle;\n",
       "    }\n",
       "\n",
       "    .dataframe tbody tr th {\n",
       "        vertical-align: top;\n",
       "    }\n",
       "\n",
       "    .dataframe thead th {\n",
       "        text-align: right;\n",
       "    }\n",
       "</style>\n",
       "<table border=\"1\" class=\"dataframe\">\n",
       "  <thead>\n",
       "    <tr style=\"text-align: right;\">\n",
       "      <th></th>\n",
       "      <th>Pipe diameter</th>\n",
       "      <th>OD</th>\n",
       "      <th>Schedule</th>\n",
       "      <th>d</th>\n",
       "      <th>CS A (m2)</th>\n",
       "    </tr>\n",
       "  </thead>\n",
       "  <tbody>\n",
       "    <tr>\n",
       "      <td>0</td>\n",
       "      <td>2</td>\n",
       "      <td>2.375</td>\n",
       "      <td>80</td>\n",
       "      <td>1.939</td>\n",
       "      <td>0.000606</td>\n",
       "    </tr>\n",
       "    <tr>\n",
       "      <td>1</td>\n",
       "      <td>2</td>\n",
       "      <td>2.375</td>\n",
       "      <td>160</td>\n",
       "      <td>1.687</td>\n",
       "      <td>0.000459</td>\n",
       "    </tr>\n",
       "    <tr>\n",
       "      <td>2</td>\n",
       "      <td>3</td>\n",
       "      <td>3.500</td>\n",
       "      <td>40</td>\n",
       "      <td>3.280</td>\n",
       "      <td>0.001735</td>\n",
       "    </tr>\n",
       "    <tr>\n",
       "      <td>3</td>\n",
       "      <td>3</td>\n",
       "      <td>3.500</td>\n",
       "      <td>80</td>\n",
       "      <td>2.900</td>\n",
       "      <td>0.001356</td>\n",
       "    </tr>\n",
       "    <tr>\n",
       "      <td>4</td>\n",
       "      <td>3</td>\n",
       "      <td>3.500</td>\n",
       "      <td>160</td>\n",
       "      <td>2.624</td>\n",
       "      <td>0.001111</td>\n",
       "    </tr>\n",
       "  </tbody>\n",
       "</table>\n",
       "</div>"
      ],
      "text/plain": [
       "   Pipe diameter     OD Schedule      d  CS A (m2)\n",
       "0              2  2.375       80  1.939   0.000606\n",
       "1              2  2.375      160  1.687   0.000459\n",
       "2              3  3.500       40  3.280   0.001735\n",
       "3              3  3.500       80  2.900   0.001356\n",
       "4              3  3.500      160  2.624   0.001111"
      ]
     },
     "execution_count": 2,
     "metadata": {},
     "output_type": "execute_result"
    }
   ],
   "source": [
    "import pandas as pd\n",
    "import numpy as np\n",
    "\n",
    "pipes = pd.read_csv(r'D:\\OneDrive\\OneDrive - WFT\\Compartido\\Azure_DATA_LAKE\\pipes_sizes.csv')\n",
    "\n",
    "pipes.head()"
   ]
  },
  {
   "cell_type": "code",
   "execution_count": 56,
   "metadata": {},
   "outputs": [
    {
     "name": "stdout",
     "output_type": "stream",
     "text": [
      "the maximun liquid flow rate is:  1037.63  m3/d and the velocity is:  1.48  ft/s\n",
      "Water maximum flow rate at:  0.50  ft/s is:  155.64  m3/d \n",
      "Oil maximum flow rate at:  1.26  ft/s is:  1048.26  Sm3/d \n",
      "Gas maximum flow rate at:  46.80  ft/s is:  1048262.93  Sm3/d \n"
     ]
    }
   ],
   "source": [
    "#Calculating gas flow measurements\n",
    "#data inputs\n",
    "Vl = range(1,50)\n",
    "Vg = Vl\n",
    "T =  20 * (9/5) + 491.67\n",
    "P = (42.5 * 14.5038)\n",
    "Z = 0.815\n",
    "\n",
    "dl = pipes[(pipes['Schedule']=='80') & (pipes['Pipe diameter']==3)].iloc[0,3] # total liquid for biphase\n",
    "do = pipes[(pipes['Schedule']=='80') & (pipes['Pipe diameter']==3)].iloc[0,3] # oil line\n",
    "dw = pipes[(pipes['Schedule']=='80') & (pipes['Pipe diameter']==2)].iloc[0,3] # water line\n",
    "dg = pipes[(pipes['Schedule']=='80') & (pipes['Pipe diameter']==6)].iloc[0,3] # gas line\n",
    "\n",
    "#d.iloc[0,3]\n",
    "#d**2\n",
    "Vmaxl = (0.012)*(Qmaxl/(dl**2))\n",
    "print(\"the maximun liquid flow rate is: \",\"{:.2f}\".format(Qmaxl),\" m3/d and the velocity is: \",\"{:.2f}\".format(Vmaxl),\" ft/s\")\n",
    "\n",
    "\n",
    "WC = 0.15 # water cut\n",
    "OilFVF = 1.18852694\n",
    "Bo = 1 / OilFVF\n",
    "Qostd = Qo*OilFVF\n",
    "\n",
    "\n",
    "GOR = 1000\n",
    "Qgas2 = Qostd * GOR\n",
    "Vmaxg = 60 * ((Qgas2/28252.14)*T*Z)/((dg**2) * P) \n",
    "\n",
    "GasFVF = 0.021128\n",
    "Bg = 1/GasFVF\n",
    "\n",
    "\n",
    "\n",
    "Qw = Qmaxl * level\n",
    "Vw = (0.012)*(Qw/(dw**2))\n",
    "Qo = Qmaxl * (1-level) \n",
    "Vo = (0.012)*(Qo/(do**2))\n",
    "\n",
    "Qgstd = Qmaxg * Bg\n",
    "\n",
    "\n",
    "#Qw = Vmaxl * (dw ** 2) / 0.012\n",
    "print(\"Water maximum flow rate at: \",\"{:.2f}\".format(Vw),\" ft/s is: \",\"{:.2f}\".format(Qw),\" m3/d \")\n",
    "\n",
    "#Qo = Vmaxl * (do ** 2) / 0.012\n",
    "print(\"Oil maximum flow rate at: \",\"{:.2f}\".format(Vo),\" ft/s is: \",\"{:.2f}\".format(Qostd),\" Sm3/d \")\n",
    "\n",
    "#Qo = Vmaxl * (do ** 2) / 0.012\n",
    "print(\"Gas maximum flow rate at: \",\"{:.2f}\".format(Vmaxg),\" ft/s is: \",\"{:.2f}\".format(Qgas2),\" Sm3/d \")\n"
   ]
  },
  {
   "cell_type": "code",
   "execution_count": 27,
   "metadata": {},
   "outputs": [
    {
     "data": {
      "image/png": "[encoded data removed]",
      "text/plain": [
       "<Figure size 432x288 with 1 Axes>"
      ]
     },
     "metadata": {
      "needs_background": "light"
     },
     "output_type": "display_data"
    }
   ],
   "source": [
    "import matplotlib.pyplot as plt\n",
    "import numpy as np\n",
    "\n",
    "Q1 = range(727)\n",
    "Vmax1 = (0.012)*(Q1/(do**2))\n",
    "\n",
    "\n",
    "plt.plot(Vmax1)\n",
    "plt.title(\"Flow rate vs velocity\")\n",
    "plt.xlabel(\"velocity [ft/s]\")\n",
    "plt.ylabel(\"Liquid Flow Rate [M3D]\")\n",
    "plt.show()\n",
    "\n"
   ]
  }
 ],
 "metadata": {
  "kernelspec": {
   "display_name": "Python 3",
   "language": "python",
   "name": "python3"
  },
  "language_info": {
   "codemirror_mode": {
    "name": "ipython",
    "version": 3
   },
   "file_extension": ".py",
   "mimetype": "text/x-python",
   "name": "python",
   "nbconvert_exporter": "python",
   "pygments_lexer": "ipython3",
   "version": "3.7.4"
  }
 },
 "nbformat": 4,
 "nbformat_minor": 4
}
