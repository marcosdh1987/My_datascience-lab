{
 "cells": [
  {
   "cell_type": "markdown",
   "metadata": {},
   "source": [
    "For PVT calibrator tool\n"
   ]
  },
  {
   "cell_type": "code",
   "execution_count": 33,
   "metadata": {},
   "outputs": [],
   "source": [
    "#Import data from github repo\n",
    "import pandas as pd\n",
    "import numpy as np\n",
    "import re\n",
    "\n",
    "data = pd.read_csv('https://raw.githubusercontent.com/marcosdh1987/fsf_calibrator/main/PVT_Factors.csv')\n"
   ]
  },
  {
   "cell_type": "code",
   "execution_count": 108,
   "metadata": {},
   "outputs": [],
   "source": [
    "#reference information\n",
    "\n",
    "ref_cond = data.iloc[7:11,0]\n",
    "\n",
    "#press and temp used on pvt flex\n",
    "\n",
    "ref_p = data.iloc[17,0:20]\n",
    "ref_t = data.iloc[18,0:20]\n"
   ]
  },
  {
   "cell_type": "code",
   "execution_count": 101,
   "metadata": {},
   "outputs": [
    {
     "data": {
      "text/plain": [
       "(20, 20)"
      ]
     },
     "execution_count": 101,
     "metadata": {},
     "output_type": "execute_result"
    }
   ],
   "source": [
    "\n",
    "#note raw index - 2 = iloc index initial and -1 for the final, ex ini : 25-2 = 3 end : 44 - 1 = 43\n",
    "oil_dens = data.iloc[23:43,0:20]\n",
    "oil_dens.shape"
   ]
  },
  {
   "cell_type": "code",
   "execution_count": 151,
   "metadata": {},
   "outputs": [
    {
     "data": {
      "text/html": [
       "<div>\n",
       "<style scoped>\n",
       "    .dataframe tbody tr th:only-of-type {\n",
       "        vertical-align: middle;\n",
       "    }\n",
       "\n",
       "    .dataframe tbody tr th {\n",
       "        vertical-align: top;\n",
       "    }\n",
       "\n",
       "    .dataframe thead th {\n",
       "        text-align: right;\n",
       "    }\n",
       "</style>\n",
       "<table border=\"1\" class=\"dataframe\">\n",
       "  <thead>\n",
       "    <tr style=\"text-align: right;\">\n",
       "      <th></th>\n",
       "      <th>10</th>\n",
       "      <th>13.42</th>\n",
       "      <th>16.84</th>\n",
       "      <th>20.26</th>\n",
       "      <th>23.68</th>\n",
       "      <th>27.11</th>\n",
       "      <th>30.53</th>\n",
       "      <th>33.95</th>\n",
       "      <th>37.37</th>\n",
       "      <th>40.79</th>\n",
       "      <th>44.21</th>\n",
       "      <th>47.63</th>\n",
       "      <th>51.05</th>\n",
       "      <th>54.47</th>\n",
       "      <th>57.89</th>\n",
       "      <th>61.32</th>\n",
       "      <th>64.74</th>\n",
       "      <th>68.16</th>\n",
       "      <th>71.58</th>\n",
       "      <th>75.0</th>\n",
       "    </tr>\n",
       "  </thead>\n",
       "  <tbody>\n",
       "    <tr>\n",
       "      <td>1.01</td>\n",
       "      <td>0.709999886</td>\n",
       "      <td>0.704857</td>\n",
       "      <td>0.699785</td>\n",
       "      <td>0.694783</td>\n",
       "      <td>0.689848</td>\n",
       "      <td>0.684981</td>\n",
       "      <td>0.680180</td>\n",
       "      <td>0.675444</td>\n",
       "      <td>0.670771</td>\n",
       "      <td>0.666161</td>\n",
       "      <td>0.661612</td>\n",
       "      <td>0.657123</td>\n",
       "      <td>0.652693</td>\n",
       "      <td>0.648322</td>\n",
       "      <td>0.644007</td>\n",
       "      <td>0.639748</td>\n",
       "      <td>0.635545</td>\n",
       "      <td>0.631395</td>\n",
       "      <td>0.627298</td>\n",
       "      <td>0.623253</td>\n",
       "    </tr>\n",
       "    <tr>\n",
       "      <td>6.22</td>\n",
       "      <td>0.700190285</td>\n",
       "      <td>0.695562</td>\n",
       "      <td>0.690970</td>\n",
       "      <td>0.686416</td>\n",
       "      <td>0.681902</td>\n",
       "      <td>0.677428</td>\n",
       "      <td>0.672995</td>\n",
       "      <td>0.668604</td>\n",
       "      <td>0.664256</td>\n",
       "      <td>0.659951</td>\n",
       "      <td>0.655688</td>\n",
       "      <td>0.651470</td>\n",
       "      <td>0.647295</td>\n",
       "      <td>0.643163</td>\n",
       "      <td>0.639075</td>\n",
       "      <td>0.635030</td>\n",
       "      <td>0.631029</td>\n",
       "      <td>0.627070</td>\n",
       "      <td>0.623155</td>\n",
       "      <td>0.619281</td>\n",
       "    </tr>\n",
       "    <tr>\n",
       "      <td>11.43</td>\n",
       "      <td>0.68953162</td>\n",
       "      <td>0.685441</td>\n",
       "      <td>0.681353</td>\n",
       "      <td>0.677272</td>\n",
       "      <td>0.673201</td>\n",
       "      <td>0.669144</td>\n",
       "      <td>0.665103</td>\n",
       "      <td>0.661081</td>\n",
       "      <td>0.657079</td>\n",
       "      <td>0.653101</td>\n",
       "      <td>0.649147</td>\n",
       "      <td>0.645219</td>\n",
       "      <td>0.641319</td>\n",
       "      <td>0.637447</td>\n",
       "      <td>0.633604</td>\n",
       "      <td>0.629791</td>\n",
       "      <td>0.626010</td>\n",
       "      <td>0.622260</td>\n",
       "      <td>0.618542</td>\n",
       "      <td>0.614856</td>\n",
       "    </tr>\n",
       "    <tr>\n",
       "      <td>16.64</td>\n",
       "      <td>0.678765823</td>\n",
       "      <td>0.675196</td>\n",
       "      <td>0.671599</td>\n",
       "      <td>0.667979</td>\n",
       "      <td>0.664343</td>\n",
       "      <td>0.660695</td>\n",
       "      <td>0.657040</td>\n",
       "      <td>0.653382</td>\n",
       "      <td>0.649725</td>\n",
       "      <td>0.646072</td>\n",
       "      <td>0.642425</td>\n",
       "      <td>0.638788</td>\n",
       "      <td>0.635163</td>\n",
       "      <td>0.631551</td>\n",
       "      <td>0.627956</td>\n",
       "      <td>0.624377</td>\n",
       "      <td>0.620818</td>\n",
       "      <td>0.617279</td>\n",
       "      <td>0.613761</td>\n",
       "      <td>0.610265</td>\n",
       "    </tr>\n",
       "    <tr>\n",
       "      <td>21.85</td>\n",
       "      <td>0.668138233</td>\n",
       "      <td>0.665061</td>\n",
       "      <td>0.661928</td>\n",
       "      <td>0.658748</td>\n",
       "      <td>0.655527</td>\n",
       "      <td>0.652272</td>\n",
       "      <td>0.648989</td>\n",
       "      <td>0.645683</td>\n",
       "      <td>0.642359</td>\n",
       "      <td>0.639021</td>\n",
       "      <td>0.635674</td>\n",
       "      <td>0.632321</td>\n",
       "      <td>0.628965</td>\n",
       "      <td>0.625609</td>\n",
       "      <td>0.622255</td>\n",
       "      <td>0.618908</td>\n",
       "      <td>0.615567</td>\n",
       "      <td>0.612236</td>\n",
       "      <td>0.608916</td>\n",
       "      <td>0.605609</td>\n",
       "    </tr>\n",
       "  </tbody>\n",
       "</table>\n",
       "</div>"
      ],
      "text/plain": [
       "                10     13.42     16.84     20.26     23.68     27.11  \\\n",
       "1.01   0.709999886  0.704857  0.699785  0.694783  0.689848  0.684981   \n",
       "6.22   0.700190285  0.695562  0.690970  0.686416  0.681902  0.677428   \n",
       "11.43   0.68953162  0.685441  0.681353  0.677272  0.673201  0.669144   \n",
       "16.64  0.678765823  0.675196  0.671599  0.667979  0.664343  0.660695   \n",
       "21.85  0.668138233  0.665061  0.661928  0.658748  0.655527  0.652272   \n",
       "\n",
       "          30.53     33.95     37.37     40.79     44.21     47.63     51.05  \\\n",
       "1.01   0.680180  0.675444  0.670771  0.666161  0.661612  0.657123  0.652693   \n",
       "6.22   0.672995  0.668604  0.664256  0.659951  0.655688  0.651470  0.647295   \n",
       "11.43  0.665103  0.661081  0.657079  0.653101  0.649147  0.645219  0.641319   \n",
       "16.64  0.657040  0.653382  0.649725  0.646072  0.642425  0.638788  0.635163   \n",
       "21.85  0.648989  0.645683  0.642359  0.639021  0.635674  0.632321  0.628965   \n",
       "\n",
       "          54.47     57.89     61.32     64.74     68.16     71.58      75.0  \n",
       "1.01   0.648322  0.644007  0.639748  0.635545  0.631395  0.627298  0.623253  \n",
       "6.22   0.643163  0.639075  0.635030  0.631029  0.627070  0.623155  0.619281  \n",
       "11.43  0.637447  0.633604  0.629791  0.626010  0.622260  0.618542  0.614856  \n",
       "16.64  0.631551  0.627956  0.624377  0.620818  0.617279  0.613761  0.610265  \n",
       "21.85  0.625609  0.622255  0.618908  0.615567  0.612236  0.608916  0.605609  "
      ]
     },
     "execution_count": 151,
     "metadata": {},
     "output_type": "execute_result"
    }
   ],
   "source": [
    "oil_dens.index = list(ref_p)\n",
    "oil_dens.columns = list(ref_t)\n",
    "oil_dens.head()"
   ]
  },
  {
   "cell_type": "code",
   "execution_count": 152,
   "metadata": {},
   "outputs": [
    {
     "data": {
      "text/plain": [
       "Index(['1.01',   6.22,  11.43,  16.64,  21.85,  27.06,  32.27,  37.48,  42.69,\n",
       "         47.9,  53.11,  58.32,  63.53,  68.74,  73.95,  79.16,  84.37,  89.58,\n",
       "        94.79,  100.0],\n",
       "      dtype='object')"
      ]
     },
     "execution_count": 152,
     "metadata": {},
     "output_type": "execute_result"
    }
   ],
   "source": [
    "oil_dens.index"
   ]
  },
  {
   "cell_type": "code",
   "execution_count": 180,
   "metadata": {},
   "outputs": [
    {
     "name": "stdout",
     "output_type": "stream",
     "text": [
      "400\n"
     ]
    }
   ],
   "source": [
    "#y = ax + b\n",
    "c = 0\n",
    "#oil_dens.index = oil_dens.columns\n",
    "\n",
    "for a in list(oil_dens.index):\n",
    "    for b in list(oil_dens.columns):\n",
    "        #print(oil_dens.loc[a,b])\n",
    "        c = c +1\n",
    "\n",
    "        \n",
    "print(c)"
   ]
  },
  {
   "cell_type": "code",
   "execution_count": 168,
   "metadata": {},
   "outputs": [
    {
     "ename": "TypeError",
     "evalue": "object of type 'map' has no len()",
     "output_type": "error",
     "traceback": [
      "\u001b[0;31m---------------------------------------------------------------------------\u001b[0m",
      "\u001b[0;31mTypeError\u001b[0m                                 Traceback (most recent call last)",
      "\u001b[0;32m<ipython-input-168-23287ba04a98>\u001b[0m in \u001b[0;36m<module>\u001b[0;34m\u001b[0m\n\u001b[1;32m     15\u001b[0m \u001b[0mc\u001b[0m \u001b[0;34m=\u001b[0m \u001b[0mmap\u001b[0m\u001b[0;34m(\u001b[0m\u001b[0mfloat\u001b[0m\u001b[0;34m,\u001b[0m\u001b[0mlist\u001b[0m\u001b[0;34m(\u001b[0m\u001b[0moil_dens\u001b[0m\u001b[0;34m.\u001b[0m\u001b[0mcolumns\u001b[0m\u001b[0;34m)\u001b[0m\u001b[0;34m)\u001b[0m\u001b[0;34m\u001b[0m\u001b[0;34m\u001b[0m\u001b[0m\n\u001b[1;32m     16\u001b[0m \u001b[0;34m\u001b[0m\u001b[0m\n\u001b[0;32m---> 17\u001b[0;31m \u001b[0max\u001b[0m\u001b[0;34m.\u001b[0m\u001b[0mplot3D\u001b[0m\u001b[0;34m(\u001b[0m\u001b[0ma\u001b[0m\u001b[0;34m,\u001b[0m \u001b[0mb\u001b[0m\u001b[0;34m,\u001b[0m \u001b[0mc\u001b[0m\u001b[0;34m,\u001b[0m \u001b[0;34m'gray'\u001b[0m\u001b[0;34m)\u001b[0m\u001b[0;34m\u001b[0m\u001b[0;34m\u001b[0m\u001b[0m\n\u001b[0m",
      "\u001b[0;32m~/opt/anaconda3/lib/python3.7/site-packages/mpl_toolkits/mplot3d/axes3d.py\u001b[0m in \u001b[0;36mplot\u001b[0;34m(self, xs, ys, zdir, *args, **kwargs)\u001b[0m\n\u001b[1;32m   1536\u001b[0m \u001b[0;34m\u001b[0m\u001b[0m\n\u001b[1;32m   1537\u001b[0m         \u001b[0;31m# Match length\u001b[0m\u001b[0;34m\u001b[0m\u001b[0;34m\u001b[0m\u001b[0;34m\u001b[0m\u001b[0m\n\u001b[0;32m-> 1538\u001b[0;31m         \u001b[0mzs\u001b[0m \u001b[0;34m=\u001b[0m \u001b[0mnp\u001b[0m\u001b[0;34m.\u001b[0m\u001b[0mbroadcast_to\u001b[0m\u001b[0;34m(\u001b[0m\u001b[0mzs\u001b[0m\u001b[0;34m,\u001b[0m \u001b[0mlen\u001b[0m\u001b[0;34m(\u001b[0m\u001b[0mxs\u001b[0m\u001b[0;34m)\u001b[0m\u001b[0;34m)\u001b[0m\u001b[0;34m\u001b[0m\u001b[0;34m\u001b[0m\u001b[0m\n\u001b[0m\u001b[1;32m   1539\u001b[0m \u001b[0;34m\u001b[0m\u001b[0m\n\u001b[1;32m   1540\u001b[0m         \u001b[0mlines\u001b[0m \u001b[0;34m=\u001b[0m \u001b[0msuper\u001b[0m\u001b[0;34m(\u001b[0m\u001b[0;34m)\u001b[0m\u001b[0;34m.\u001b[0m\u001b[0mplot\u001b[0m\u001b[0;34m(\u001b[0m\u001b[0mxs\u001b[0m\u001b[0;34m,\u001b[0m \u001b[0mys\u001b[0m\u001b[0;34m,\u001b[0m \u001b[0;34m*\u001b[0m\u001b[0margs\u001b[0m\u001b[0;34m,\u001b[0m \u001b[0;34m**\u001b[0m\u001b[0mkwargs\u001b[0m\u001b[0;34m)\u001b[0m\u001b[0;34m\u001b[0m\u001b[0;34m\u001b[0m\u001b[0m\n",
      "\u001b[0;31mTypeError\u001b[0m: object of type 'map' has no len()"
     ]
    },
    {
     "data": {
      "image/png": "[encoded data removed]",
      "text/plain": [
       "<Figure size 432x288 with 1 Axes>"
      ]
     },
     "metadata": {
      "needs_background": "light"
     },
     "output_type": "display_data"
    }
   ],
   "source": [
    "from mpl_toolkits import mplot3d\n",
    "\n",
    "%matplotlib inline\n",
    "import numpy as np\n",
    "import matplotlib.pyplot as plt\n",
    "\n",
    "#plt.plot(list(oil_dens.iloc[0]),list(oil_dens.index))\n",
    "#plt.plot(list(oil_dens.iloc[0]),list(oil_dens.columns))\n",
    "#plt.show()\n",
    "         \n",
    "ax = plt.axes(projection='3d')\n",
    "\n",
    "a = map(float,list(oil_dens.iloc[0]))\n",
    "b = map(float,list(oil_dens.index))\n",
    "c = map(float,list(oil_dens.columns))\n",
    "\n",
    "ax.plot3D(a, b, c, 'gray')"
   ]
  },
  {
   "cell_type": "code",
   "execution_count": null,
   "metadata": {},
   "outputs": [],
   "source": []
  },
  {
   "cell_type": "code",
   "execution_count": 109,
   "metadata": {},
   "outputs": [
    {
     "data": {
      "text/plain": [
       "(20, 20)"
      ]
     },
     "execution_count": 109,
     "metadata": {},
     "output_type": "execute_result"
    }
   ],
   "source": [
    "#raw 49 to 68\n",
    "\n",
    "water_dens = data.iloc[47:67,0:20]\n",
    "water_dens.shape"
   ]
  },
  {
   "cell_type": "code",
   "execution_count": 110,
   "metadata": {},
   "outputs": [
    {
     "data": {
      "text/plain": [
       "(20, 20)"
      ]
     },
     "execution_count": 110,
     "metadata": {},
     "output_type": "execute_result"
    }
   ],
   "source": [
    "#raw 73 to 92\n",
    "gas_dens = data.iloc[71:91,0:20]\n",
    "gas_dens.shape"
   ]
  },
  {
   "cell_type": "code",
   "execution_count": 111,
   "metadata": {},
   "outputs": [
    {
     "data": {
      "text/plain": [
       "(20, 20)"
      ]
     },
     "execution_count": 111,
     "metadata": {},
     "output_type": "execute_result"
    }
   ],
   "source": [
    "#raw 97 to 116\n",
    "oil_visc = data.iloc[95:115,0:20]\n",
    "oil_visc.shape"
   ]
  },
  {
   "cell_type": "code",
   "execution_count": 112,
   "metadata": {},
   "outputs": [
    {
     "data": {
      "text/plain": [
       "(20, 20)"
      ]
     },
     "execution_count": 112,
     "metadata": {},
     "output_type": "execute_result"
    }
   ],
   "source": [
    "#raw 121 to 140\n",
    "water_visc = data.iloc[119:139,0:20]\n",
    "water_visc.shape"
   ]
  },
  {
   "cell_type": "code",
   "execution_count": 113,
   "metadata": {},
   "outputs": [
    {
     "data": {
      "text/plain": [
       "(20, 20)"
      ]
     },
     "execution_count": 113,
     "metadata": {},
     "output_type": "execute_result"
    }
   ],
   "source": [
    "#raw 145 to 164\n",
    "gas_visc = data.iloc[143:163,0:20]\n",
    "gas_visc.shape"
   ]
  },
  {
   "cell_type": "code",
   "execution_count": 114,
   "metadata": {},
   "outputs": [
    {
     "data": {
      "text/plain": [
       "(20, 20)"
      ]
     },
     "execution_count": 114,
     "metadata": {},
     "output_type": "execute_result"
    }
   ],
   "source": [
    "#raw 169 to 188\n",
    "oil_fvf = data.iloc[167:187,0:20]\n",
    "oil_fvf.shape"
   ]
  },
  {
   "cell_type": "code",
   "execution_count": 116,
   "metadata": {},
   "outputs": [
    {
     "data": {
      "text/plain": [
       "(20, 20)"
      ]
     },
     "execution_count": 116,
     "metadata": {},
     "output_type": "execute_result"
    }
   ],
   "source": [
    "#raw 193 to 212\n",
    "water_fvf = data.iloc[191:211,0:20]\n",
    "water_fvf.shape"
   ]
  },
  {
   "cell_type": "code",
   "execution_count": 118,
   "metadata": {},
   "outputs": [
    {
     "data": {
      "text/plain": [
       "(20, 20)"
      ]
     },
     "execution_count": 118,
     "metadata": {},
     "output_type": "execute_result"
    }
   ],
   "source": [
    "#raw 217 to 236\n",
    "gas_fvf = data.iloc[215:235,0:20]\n",
    "gas_fvf.shape"
   ]
  },
  {
   "cell_type": "code",
   "execution_count": 119,
   "metadata": {},
   "outputs": [
    {
     "data": {
      "text/plain": [
       "(20, 20)"
      ]
     },
     "execution_count": 119,
     "metadata": {},
     "output_type": "execute_result"
    }
   ],
   "source": [
    "#raw 241 to 260\n",
    "sol_gor = data.iloc[239:259,0:20]\n",
    "sol_gor.shape"
   ]
  },
  {
   "cell_type": "code",
   "execution_count": 120,
   "metadata": {},
   "outputs": [
    {
     "data": {
      "text/plain": [
       "(20, 20)"
      ]
     },
     "execution_count": 120,
     "metadata": {},
     "output_type": "execute_result"
    }
   ],
   "source": [
    "#raw 265 to 284\n",
    "vap_cgr = data.iloc[263:283,0:20]\n",
    "vap_cgr.shape"
   ]
  },
  {
   "cell_type": "code",
   "execution_count": 121,
   "metadata": {},
   "outputs": [
    {
     "data": {
      "text/plain": [
       "(20, 20)"
      ]
     },
     "execution_count": 121,
     "metadata": {},
     "output_type": "execute_result"
    }
   ],
   "source": [
    "#raw 409 to 428\n",
    "kappa = data.iloc[407:427,0:20]\n",
    "kappa.shape"
   ]
  },
  {
   "cell_type": "code",
   "execution_count": 123,
   "metadata": {},
   "outputs": [
    {
     "data": {
      "text/plain": [
       "(20, 20)"
      ]
     },
     "execution_count": 123,
     "metadata": {},
     "output_type": "execute_result"
    }
   ],
   "source": [
    "#raw 433 to 452\n",
    "SoS_oil = data.iloc[431:451,0:20]\n",
    "SoS_oil.shape"
   ]
  },
  {
   "cell_type": "code",
   "execution_count": 124,
   "metadata": {},
   "outputs": [
    {
     "data": {
      "text/plain": [
       "(20, 20)"
      ]
     },
     "execution_count": 124,
     "metadata": {},
     "output_type": "execute_result"
    }
   ],
   "source": [
    "#raw 457 to 476\n",
    "SoS_gas = data.iloc[455:475,0:20]\n",
    "SoS_gas.shape"
   ]
  },
  {
   "cell_type": "code",
   "execution_count": 125,
   "metadata": {},
   "outputs": [
    {
     "data": {
      "text/plain": [
       "(20, 20)"
      ]
     },
     "execution_count": 125,
     "metadata": {},
     "output_type": "execute_result"
    }
   ],
   "source": [
    "#raw 481 to 500\n",
    "SoS_water = data.iloc[479:499,0:20]\n",
    "SoS_water.shape"
   ]
  }
 ],
 "metadata": {
  "kernelspec": {
   "display_name": "Python 3",
   "language": "python",
   "name": "python3"
  },
  "language_info": {
   "codemirror_mode": {
    "name": "ipython",
    "version": 3
   },
   "file_extension": ".py",
   "mimetype": "text/x-python",
   "name": "python",
   "nbconvert_exporter": "python",
   "pygments_lexer": "ipython3",
   "version": "3.7.4"
  }
 },
 "nbformat": 4,
 "nbformat_minor": 4
}
