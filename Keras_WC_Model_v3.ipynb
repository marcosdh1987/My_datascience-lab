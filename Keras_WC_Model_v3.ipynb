{
 "cells": [
  {
   "cell_type": "code",
   "execution_count": 6,
   "metadata": {},
   "outputs": [
    {
     "data": {
      "text/html": [
       "<div>\n",
       "<style scoped>\n",
       "    .dataframe tbody tr th:only-of-type {\n",
       "        vertical-align: middle;\n",
       "    }\n",
       "\n",
       "    .dataframe tbody tr th {\n",
       "        vertical-align: top;\n",
       "    }\n",
       "\n",
       "    .dataframe thead th {\n",
       "        text-align: right;\n",
       "    }\n",
       "</style>\n",
       "<table border=\"1\" class=\"dataframe\">\n",
       "  <thead>\n",
       "    <tr style=\"text-align: right;\">\n",
       "      <th></th>\n",
       "      <th>WLR [%]</th>\n",
       "      <th>Well#</th>\n",
       "      <th>Status</th>\n",
       "      <th>XL [-]</th>\n",
       "      <th>PC1 [nA]</th>\n",
       "      <th>PC2 [nA]</th>\n",
       "      <th>PC3 [nA]</th>\n",
       "      <th>PC4 [nA]</th>\n",
       "      <th>Tb [C]</th>\n",
       "      <th>4-20mA In [counts]</th>\n",
       "      <th>Freq. In [Hz]</th>\n",
       "      <th>Flow Rate</th>\n",
       "    </tr>\n",
       "  </thead>\n",
       "  <tbody>\n",
       "    <tr>\n",
       "      <td>count</td>\n",
       "      <td>9470.000000</td>\n",
       "      <td>9470.0</td>\n",
       "      <td>9470.0</td>\n",
       "      <td>9470.000000</td>\n",
       "      <td>9470.000000</td>\n",
       "      <td>9470.000000</td>\n",
       "      <td>9470.000000</td>\n",
       "      <td>9470.000000</td>\n",
       "      <td>9470.000000</td>\n",
       "      <td>9470.000000</td>\n",
       "      <td>9470.0</td>\n",
       "      <td>9470.0</td>\n",
       "    </tr>\n",
       "    <tr>\n",
       "      <td>mean</td>\n",
       "      <td>98.435238</td>\n",
       "      <td>10.0</td>\n",
       "      <td>0.0</td>\n",
       "      <td>0.872761</td>\n",
       "      <td>21842.564671</td>\n",
       "      <td>336.625510</td>\n",
       "      <td>11910.872534</td>\n",
       "      <td>1771.713188</td>\n",
       "      <td>31.521679</td>\n",
       "      <td>0.196727</td>\n",
       "      <td>0.0</td>\n",
       "      <td>0.0</td>\n",
       "    </tr>\n",
       "    <tr>\n",
       "      <td>std</td>\n",
       "      <td>2.426000</td>\n",
       "      <td>0.0</td>\n",
       "      <td>0.0</td>\n",
       "      <td>0.155936</td>\n",
       "      <td>3411.620680</td>\n",
       "      <td>175.488279</td>\n",
       "      <td>1133.029594</td>\n",
       "      <td>227.367835</td>\n",
       "      <td>1.023373</td>\n",
       "      <td>0.397545</td>\n",
       "      <td>0.0</td>\n",
       "      <td>0.0</td>\n",
       "    </tr>\n",
       "    <tr>\n",
       "      <td>min</td>\n",
       "      <td>59.940000</td>\n",
       "      <td>10.0</td>\n",
       "      <td>0.0</td>\n",
       "      <td>0.148000</td>\n",
       "      <td>3744.770000</td>\n",
       "      <td>209.720000</td>\n",
       "      <td>4754.610000</td>\n",
       "      <td>396.820000</td>\n",
       "      <td>29.300000</td>\n",
       "      <td>0.000000</td>\n",
       "      <td>0.0</td>\n",
       "      <td>0.0</td>\n",
       "    </tr>\n",
       "    <tr>\n",
       "      <td>25%</td>\n",
       "      <td>98.180000</td>\n",
       "      <td>10.0</td>\n",
       "      <td>0.0</td>\n",
       "      <td>0.791000</td>\n",
       "      <td>20248.515000</td>\n",
       "      <td>245.900000</td>\n",
       "      <td>11559.837500</td>\n",
       "      <td>1688.920000</td>\n",
       "      <td>30.900000</td>\n",
       "      <td>0.000000</td>\n",
       "      <td>0.0</td>\n",
       "      <td>0.0</td>\n",
       "    </tr>\n",
       "    <tr>\n",
       "      <td>50%</td>\n",
       "      <td>98.710000</td>\n",
       "      <td>10.0</td>\n",
       "      <td>0.0</td>\n",
       "      <td>0.922000</td>\n",
       "      <td>22168.030000</td>\n",
       "      <td>276.855000</td>\n",
       "      <td>12066.290000</td>\n",
       "      <td>1799.010000</td>\n",
       "      <td>32.100000</td>\n",
       "      <td>0.000000</td>\n",
       "      <td>0.0</td>\n",
       "      <td>0.0</td>\n",
       "    </tr>\n",
       "    <tr>\n",
       "      <td>75%</td>\n",
       "      <td>99.470000</td>\n",
       "      <td>10.0</td>\n",
       "      <td>0.0</td>\n",
       "      <td>0.997000</td>\n",
       "      <td>25015.512500</td>\n",
       "      <td>347.495000</td>\n",
       "      <td>12718.180000</td>\n",
       "      <td>1954.180000</td>\n",
       "      <td>32.300000</td>\n",
       "      <td>0.000000</td>\n",
       "      <td>0.0</td>\n",
       "      <td>0.0</td>\n",
       "    </tr>\n",
       "    <tr>\n",
       "      <td>max</td>\n",
       "      <td>100.000000</td>\n",
       "      <td>10.0</td>\n",
       "      <td>0.0</td>\n",
       "      <td>1.054000</td>\n",
       "      <td>25378.930000</td>\n",
       "      <td>2635.910000</td>\n",
       "      <td>17886.700000</td>\n",
       "      <td>2670.890000</td>\n",
       "      <td>32.400000</td>\n",
       "      <td>1.000000</td>\n",
       "      <td>0.0</td>\n",
       "      <td>0.0</td>\n",
       "    </tr>\n",
       "  </tbody>\n",
       "</table>\n",
       "</div>"
      ],
      "text/plain": [
       "           WLR [%]   Well#  Status       XL [-]      PC1 [nA]     PC2 [nA]  \\\n",
       "count  9470.000000  9470.0  9470.0  9470.000000   9470.000000  9470.000000   \n",
       "mean     98.435238    10.0     0.0     0.872761  21842.564671   336.625510   \n",
       "std       2.426000     0.0     0.0     0.155936   3411.620680   175.488279   \n",
       "min      59.940000    10.0     0.0     0.148000   3744.770000   209.720000   \n",
       "25%      98.180000    10.0     0.0     0.791000  20248.515000   245.900000   \n",
       "50%      98.710000    10.0     0.0     0.922000  22168.030000   276.855000   \n",
       "75%      99.470000    10.0     0.0     0.997000  25015.512500   347.495000   \n",
       "max     100.000000    10.0     0.0     1.054000  25378.930000  2635.910000   \n",
       "\n",
       "           PC3 [nA]     PC4 [nA]       Tb [C]   4-20mA In [counts]  \\\n",
       "count   9470.000000  9470.000000  9470.000000          9470.000000   \n",
       "mean   11910.872534  1771.713188    31.521679             0.196727   \n",
       "std     1133.029594   227.367835     1.023373             0.397545   \n",
       "min     4754.610000   396.820000    29.300000             0.000000   \n",
       "25%    11559.837500  1688.920000    30.900000             0.000000   \n",
       "50%    12066.290000  1799.010000    32.100000             0.000000   \n",
       "75%    12718.180000  1954.180000    32.300000             0.000000   \n",
       "max    17886.700000  2670.890000    32.400000             1.000000   \n",
       "\n",
       "       Freq. In [Hz]  Flow Rate  \n",
       "count         9470.0     9470.0  \n",
       "mean             0.0        0.0  \n",
       "std              0.0        0.0  \n",
       "min              0.0        0.0  \n",
       "25%              0.0        0.0  \n",
       "50%              0.0        0.0  \n",
       "75%              0.0        0.0  \n",
       "max              0.0        0.0  "
      ]
     },
     "execution_count": 6,
     "metadata": {},
     "output_type": "execute_result"
    }
   ],
   "source": [
    "import pandas as pd\n",
    "\n",
    "#data_path = \"https://raw.githubusercontent.com/marcosdh1987/meter01/main/RE_Log20181214.csv?token=AHQEZ4P7WR5UISJ2KKJ4X6K7XZSBK\"\n",
    "\n",
    "ds1 = pd.read_csv('D:\\Google Drive\\Deep_Learning\\Jupiter_Notebooks\\ds\\TestCorcovo\\RE_Log20181212.csv')\n",
    "ds2 = pd.read_csv(r'C:\\Users\\e196315\\Documents\\RedLine\\Argentina\\ECN-3022\\RE_Log20181214.csv')\n",
    "#ds3 = pd.read_csv(data_path)\n",
    "\n",
    "ds2.describe()\n"
   ]
  },
  {
   "cell_type": "code",
   "execution_count": 2,
   "metadata": {},
   "outputs": [
    {
     "name": "stdout",
     "output_type": "stream",
     "text": [
      "   PC1 [nA]  PC2 [nA]  PC3 [nA]  PC4 [nA]  XL [-]    aw1     aw2     aw3  \\\n",
      "0  0.397516  2.454711  0.946101  1.065108   0.973 -0.017  2.9304  0.5466   \n",
      "1  0.394186  2.438762  0.961490  1.055181   0.957 -0.017  2.9304  0.5466   \n",
      "2  0.289349  2.436792  0.886965  0.963864   0.987 -0.017  2.9304  0.5466   \n",
      "3  0.349366  2.446726  0.931154  1.024274   0.971 -0.017  2.9304  0.5466   \n",
      "4  0.388738  2.485368  0.962575  1.054307   0.978 -0.017  2.9304  0.5466   \n",
      "\n",
      "      aw4     ao1    ao2     ao3     ao4  \n",
      "0  0.5366  3.1292  2.489  1.8896  3.0607  \n",
      "1  0.5366  3.1292  2.489  1.8896  3.0607  \n",
      "2  0.5366  3.1292  2.489  1.8896  3.0607  \n",
      "3  0.5366  3.1292  2.489  1.8896  3.0607  \n",
      "4  0.5366  3.1292  2.489  1.8896  3.0607  \n",
      "(9470, 13)\n"
     ]
    }
   ],
   "source": [
    "import numpy as np\n",
    "from math import log\n",
    "\n",
    "A = ds2[['PC1 [nA]','PC2 [nA]','PC3 [nA]','PC4 [nA]']]\n",
    "Xl = ds2['XL [-]']\n",
    "outputs = ds2['WLR [%]']\n",
    "\n",
    "aw = np.full((9470,4),[-0.0170,2.9304,0.5466,0.5366])\n",
    "ao = np.full((9470,4),[3.1292,2.4890,1.8896,3.0607])\n",
    "acal = np.full((9470,4),[30092.8,2730.3,28477.1,4664.3])\n",
    "\n",
    "\n",
    "aw_d = pd.DataFrame(aw)\n",
    "ao_d = pd.DataFrame(ao)\n",
    "\n",
    "A1 = -(np.log(A/acal))\n",
    "\n",
    "#inputs = pd.DataFrame(ds2[['PC1 [nA]','PC2 [nA]','PC3 [nA]','PC4 [nA]','XL [-]']])\n",
    "inputs = pd.DataFrame(A1[['PC1 [nA]','PC2 [nA]','PC3 [nA]','PC4 [nA]']])\n",
    "inputs['XL [-]'] = ds2['XL [-]']\n",
    "inputs[['aw1','aw2','aw3','aw4']] = aw_d[:]\n",
    "inputs[['ao1','ao2','ao3','ao4']] = ao_d[:]\n",
    "\n",
    "print(inputs.head())\n",
    "print(inputs.shape)\n",
    "#print(outputs.head())"
   ]
  },
  {
   "cell_type": "code",
   "execution_count": 3,
   "metadata": {},
   "outputs": [],
   "source": [
    "from sklearn.model_selection import train_test_split\n",
    "\n",
    "X_train, X_test, y_train, y_test = train_test_split(inputs,outputs, test_size= 0.3, random_state=42)"
   ]
  },
  {
   "cell_type": "code",
   "execution_count": 4,
   "metadata": {},
   "outputs": [
    {
     "name": "stderr",
     "output_type": "stream",
     "text": [
      "Using TensorFlow backend.\n"
     ]
    },
    {
     "name": "stdout",
     "output_type": "stream",
     "text": [
      "Model: \"sequential_1\"\n",
      "_________________________________________________________________\n",
      "Layer (type)                 Output Shape              Param #   \n",
      "=================================================================\n",
      "dense_1 (Dense)              (None, 64)                896       \n",
      "_________________________________________________________________\n",
      "dense_2 (Dense)              (None, 64)                4160      \n",
      "_________________________________________________________________\n",
      "dense_3 (Dense)              (None, 1)                 65        \n",
      "=================================================================\n",
      "Total params: 5,121\n",
      "Trainable params: 5,121\n",
      "Non-trainable params: 0\n",
      "_________________________________________________________________\n"
     ]
    }
   ],
   "source": [
    "from keras.layers import Input, Dense, Concatenate\n",
    "from keras.models import Sequential\n",
    "from keras.models import Model\n",
    "\n",
    "model = Sequential()\n",
    "model.add(Dense(64, input_dim=13, activation='relu'))\n",
    "model.add(Dense(64, activation='relu'))\n",
    "model.add(Dense(1))\n",
    "model.compile(optimizer='adam', loss='mean_absolute_error')\n",
    "model.summary()\n"
   ]
  },
  {
   "cell_type": "code",
   "execution_count": 5,
   "metadata": {},
   "outputs": [
    {
     "name": "stdout",
     "output_type": "stream",
     "text": [
      "\n",
      "....................................................................................................\n",
      "...................................................................................................."
     ]
    }
   ],
   "source": [
    "from keras.callbacks import Callback\n",
    "\n",
    "# Display training progress by printing a single dot for each completed epoch\n",
    "class PrintDot(Callback):\n",
    "  def on_epoch_end(self, epoch, logs):\n",
    "    if epoch % 100 == 0: print('')\n",
    "    print('.', end='')\n",
    "    \n",
    "#Visualize the model's training progress using the stats stored in the history object.\n",
    "from keras.callbacks import History \n",
    "history = History()\n",
    "    \n",
    "    \n",
    "history = model.fit(X_train,y_train, epochs=200, validation_split = 0.2, batch_size=50,verbose=0,\n",
    "  callbacks=[PrintDot()])"
   ]
  },
  {
   "cell_type": "code",
   "execution_count": 22,
   "metadata": {},
   "outputs": [
    {
     "data": {
      "text/html": [
       "<div>\n",
       "<style scoped>\n",
       "    .dataframe tbody tr th:only-of-type {\n",
       "        vertical-align: middle;\n",
       "    }\n",
       "\n",
       "    .dataframe tbody tr th {\n",
       "        vertical-align: top;\n",
       "    }\n",
       "\n",
       "    .dataframe thead th {\n",
       "        text-align: right;\n",
       "    }\n",
       "</style>\n",
       "<table border=\"1\" class=\"dataframe\">\n",
       "  <thead>\n",
       "    <tr style=\"text-align: right;\">\n",
       "      <th></th>\n",
       "      <th>val_loss</th>\n",
       "      <th>loss</th>\n",
       "      <th>epoch</th>\n",
       "    </tr>\n",
       "  </thead>\n",
       "  <tbody>\n",
       "    <tr>\n",
       "      <td>195</td>\n",
       "      <td>0.272490</td>\n",
       "      <td>0.236863</td>\n",
       "      <td>195</td>\n",
       "    </tr>\n",
       "    <tr>\n",
       "      <td>196</td>\n",
       "      <td>0.317701</td>\n",
       "      <td>0.239374</td>\n",
       "      <td>196</td>\n",
       "    </tr>\n",
       "    <tr>\n",
       "      <td>197</td>\n",
       "      <td>0.252194</td>\n",
       "      <td>0.291229</td>\n",
       "      <td>197</td>\n",
       "    </tr>\n",
       "    <tr>\n",
       "      <td>198</td>\n",
       "      <td>0.355299</td>\n",
       "      <td>0.249312</td>\n",
       "      <td>198</td>\n",
       "    </tr>\n",
       "    <tr>\n",
       "      <td>199</td>\n",
       "      <td>0.216331</td>\n",
       "      <td>0.256938</td>\n",
       "      <td>199</td>\n",
       "    </tr>\n",
       "  </tbody>\n",
       "</table>\n",
       "</div>"
      ],
      "text/plain": [
       "     val_loss      loss  epoch\n",
       "195  0.272490  0.236863    195\n",
       "196  0.317701  0.239374    196\n",
       "197  0.252194  0.291229    197\n",
       "198  0.355299  0.249312    198\n",
       "199  0.216331  0.256938    199"
      ]
     },
     "execution_count": 22,
     "metadata": {},
     "output_type": "execute_result"
    }
   ],
   "source": [
    "#Visualize the model's training progress using the stats stored in the history object.\n",
    "\n",
    "hist = pd.DataFrame(history.history)\n",
    "hist['epoch'] = history.epoch\n",
    "hist.tail()"
   ]
  },
  {
   "cell_type": "code",
   "execution_count": 25,
   "metadata": {},
   "outputs": [
    {
     "data": {
      "image/png": "[encoded data removed]",
      "text/plain": [
       "<Figure size 432x288 with 1 Axes>"
      ]
     },
     "metadata": {
      "needs_background": "light"
     },
     "output_type": "display_data"
    }
   ],
   "source": [
    "import matplotlib.pyplot as plt\n",
    "\n",
    "def plot_loss(history):\n",
    "  plt.plot(history.history['loss'], label='loss')\n",
    "  plt.plot(history.history['val_loss'], label='val_loss')\n",
    "  plt.ylim([0, 10])\n",
    "  plt.xlabel('Epoch')\n",
    "  plt.ylabel('Error [WC]')\n",
    "  plt.legend()\n",
    "  plt.grid(True)\n",
    "\n",
    "plot_loss(history)"
   ]
  },
  {
   "cell_type": "code",
   "execution_count": 24,
   "metadata": {},
   "outputs": [
    {
     "name": "stdout",
     "output_type": "stream",
     "text": [
      "2841/2841 [==============================] - 0s 20us/step\n"
     ]
    },
    {
     "data": {
      "text/plain": [
       "0.2210399032803498"
      ]
     },
     "execution_count": 24,
     "metadata": {},
     "output_type": "execute_result"
    }
   ],
   "source": [
    "model.evaluate(X_test,y_test)"
   ]
  },
  {
   "cell_type": "code",
   "execution_count": 26,
   "metadata": {},
   "outputs": [
    {
     "data": {
      "image/png": "[encoded data removed]",
      "text/plain": [
       "<Figure size 432x288 with 1 Axes>"
      ]
     },
     "metadata": {
      "needs_background": "light"
     },
     "output_type": "display_data"
    }
   ],
   "source": [
    "\n",
    "plt.scatter(outputs, model.predict(inputs), label='Data')\n",
    "plt.xlabel('Data')\n",
    "plt.ylabel('Predictions')\n",
    "plt.legend()\n",
    "plt.show()"
   ]
  },
  {
   "cell_type": "code",
   "execution_count": 27,
   "metadata": {},
   "outputs": [
    {
     "name": "stdout",
     "output_type": "stream",
     "text": [
      "prediction =  [[97.72292]]\n",
      "Trained value =  3    98.24\n",
      "Name: WLR [%], dtype: float64\n"
     ]
    }
   ],
   "source": [
    "#individual prediction\n",
    "\n",
    "#dataset input\n",
    "x = inputs.iloc[3:4]\n",
    "y = outputs.iloc[3:4]\n",
    "#manual input \n",
    "# 'PC1 [nA]','PC2 [nA]','PC3 [nA]','PC4 [nA]','XL [-]','aw1','aw2','aw3','aw4','ao1','ao2','ao3','ao4'\n",
    "#x = pd.DataFrame([[25195.03,239.13,12856.83,1987.97,1.033,-0.0170,2.9304,0.5466,0.5366,3.1292,2.4890,1.8896,3.0607]])\n",
    "#y = '97.91'\n",
    "\n",
    "\n",
    "\n",
    "print('prediction = ', model.predict(x) )\n",
    "print('Trained value = ', y )"
   ]
  }
 ],
 "metadata": {
  "kernelspec": {
   "display_name": "Python 3",
   "language": "python",
   "name": "python3"
  },
  "language_info": {
   "codemirror_mode": {
    "name": "ipython",
    "version": 3
   },
   "file_extension": ".py",
   "mimetype": "text/x-python",
   "name": "python",
   "nbconvert_exporter": "python",
   "pygments_lexer": "ipython3",
   "version": "3.7.4"
  }
 },
 "nbformat": 4,
 "nbformat_minor": 4
}
