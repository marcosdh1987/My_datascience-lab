{
 "cells": [
  {
   "cell_type": "code",
   "execution_count": null,
   "metadata": {},
   "outputs": [
    {
     "name": "stdout",
     "output_type": "stream",
     "text": [
      "pygame 1.9.6\n",
      "Hello from the pygame community. https://www.pygame.org/contribute.html\n"
     ]
    }
   ],
   "source": [
    "import pygame\n",
    "import numpy as np\n",
    "\n",
    "\n",
    "pygame.init()\n",
    "\n",
    "width, height = 1000,1000\n",
    "screen = pygame.display.set_mode((height, width))\n",
    "\n",
    "bg = 25,25,25\n",
    "screen.fill\n",
    "\n",
    "nxC, nyC = 25, 25\n",
    "\n",
    "dimCW = width / nxC\n",
    "dimCH = height / nyC\n",
    "\n",
    "#Bucle de ejecucion\n",
    "while True:\n",
    "    for y in range(0, nxC):\n",
    "        for x in range(0, nyC):\n",
    "            \n",
    "            poly = [((x    ) * dimCW, y * dimCH),\n",
    "                    ((x + 1) * dimCW, y * dimCH),\n",
    "                    ((x + 1) * dimCW, (y+1) * dimCH),\n",
    "                    ((x    ) * dimCW, (y+1) * dimCH)]\n",
    "            \n",
    "            pygame.draw.polygon(screen,(128,128,128), poly, 1)\n",
    "    pygame.display.flip()\n",
    "\n"
   ]
  }
 ],
 "metadata": {
  "kernelspec": {
   "display_name": "Python 3",
   "language": "python",
   "name": "python3"
  },
  "language_info": {
   "codemirror_mode": {
    "name": "ipython",
    "version": 3
   },
   "file_extension": ".py",
   "mimetype": "text/x-python",
   "name": "python",
   "nbconvert_exporter": "python",
   "pygments_lexer": "ipython3",
   "version": "3.7.4"
  }
 },
 "nbformat": 4,
 "nbformat_minor": 4
}
